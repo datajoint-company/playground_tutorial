{
 "cells": [
  {
   "cell_type": "markdown",
   "metadata": {},
   "source": [
    "# Welcome to DataJoint Tutorial!"
   ]
  },
  {
   "cell_type": "markdown",
   "metadata": {},
   "source": [
    "Congratulations! If you are reading this, then you have successfully connected to the workshop JupyterHub and opened up your very first workshop notebook! These notebooks are oranized with numbers to highlight what should come next. First, we'll walk through the startup process. Next, you'll see an introduction to DataJoint, and how to structure a data pipeline. The Calcium Imaging and Electrophysiology folders show example data structures and analysis techniques from common experimental techniques. We've included some fill-in-the-blank sections for you to code yourself. If you want to see completed notebooks, see the folder of completed exercises.\n",
    "\n",
    "Before we start, remember that all of the edits you make in these tutorial notebooks are ***not persistent*** - they will be reset to the original content everytime you restart the server. However, you can easily download the notebooks that you're interested in keeping the changes."
   ]
  },
  {
   "cell_type": "markdown",
   "metadata": {},
   "source": [
    "In this notebook, we will:\n",
    "1. learn to import DataJoint package\n",
    "2. connect DataJoint to our workshop database server\n",
    "3. learn how to save your connection configuration\n",
    "4. change your database password to something more secure/memorable and save it into your configuration"
   ]
  },
  {
   "cell_type": "markdown",
   "metadata": {},
   "source": [
    "# First thing first - Importing DataJoint package"
   ]
  },
  {
   "cell_type": "markdown",
   "metadata": {},
   "source": [
    "This JupyterHub environment comes with the latest DataJoint Python package pre-installed, along with many other popular scientific computation Python packages such as [NumPy](http://www.numpy.org/), [SciPy](https://www.scipy.org/), and [Matplotlib](https://matplotlib.org/)."
   ]
  },
  {
   "cell_type": "markdown",
   "metadata": {},
   "source": [
    "Just like any other packages, to start using [DataJoint](https://datajoint.io/), you must first import the package - `datajoint`! Convention is to alias the package to `dj`."
   ]
  },
  {
   "cell_type": "code",
   "execution_count": null,
   "metadata": {},
   "outputs": [],
   "source": [
    "import datajoint as dj"
   ]
  },
  {
   "cell_type": "markdown",
   "metadata": {},
   "source": [
    "You have now successfully imported `datajoint` package. However, `datajoint` is still not connected to a database. We need to **configure the connection information**."
   ]
  },
  {
   "cell_type": "markdown",
   "metadata": {},
   "source": [
    "# Configuring connection to the DataJoint database server"
   ]
  },
  {
   "cell_type": "markdown",
   "metadata": {},
   "source": [
    "Before you can get connected to the database server with DataJoint, you need to make sure that `datajoint` is configured properly. All `datajoint` configs can be found under `dj.config`."
   ]
  },
  {
   "cell_type": "markdown",
   "metadata": {},
   "source": [
    "Let's take a look at what's inside the configuration."
   ]
  },
  {
   "cell_type": "code",
   "execution_count": null,
   "metadata": {},
   "outputs": [],
   "source": [
    "dj.config"
   ]
  },
  {
   "cell_type": "markdown",
   "metadata": {},
   "source": [
    "In particular, take a look at the `database.host`, `database.user`, and `database.password` fields - these fields tell DataJoint:\n",
    "* which database to connect to (`database.host`)\n",
    "* what user name to use (`database.user`), and\n",
    "* the password for the user (`database.password`)"
   ]
  },
  {
   "attachments": {},
   "cell_type": "markdown",
   "metadata": {},
   "source": [
    "For this workshop, some of the configuration values are pre-filled (e.g. `database.host` already points to the workshop database or the local database if you are using Github Codespace). Let's complete the configuration by specifying the username and password.\n",
    "\n",
    "Go ahead and enter the username and password of your [datajoint.io](https://datajoint.io) account below.\n",
    "\n",
    "***NOTE***: If you are running this tutorial with GitHub Codespace, you can skip this credentials setting step, as they are already preconfigured correctly for you."
   ]
  },
  {
   "cell_type": "code",
   "execution_count": null,
   "metadata": {},
   "outputs": [],
   "source": [
    "dj.config['database.user'] =  'ENTER USERNAME HERE'\n",
    "dj.config['database.password'] = 'ENTER PASSWORD HERE'"
   ]
  },
  {
   "cell_type": "markdown",
   "metadata": {},
   "source": [
    "Check that the config now contains your username and password"
   ]
  },
  {
   "cell_type": "code",
   "execution_count": null,
   "metadata": {},
   "outputs": [],
   "source": [
    "dj.config"
   ]
  },
  {
   "cell_type": "markdown",
   "metadata": {},
   "source": [
    "# Testing your connection"
   ]
  },
  {
   "cell_type": "markdown",
   "metadata": {},
   "source": [
    "You can now test your connection configuration by trying to explicitly connect to the database with `dj.conn()` function call."
   ]
  },
  {
   "cell_type": "code",
   "execution_count": null,
   "metadata": {},
   "outputs": [],
   "source": [
    "dj.conn()   # establish the connection"
   ]
  },
  {
   "cell_type": "markdown",
   "metadata": {},
   "source": [
    "If the above call returned without an error, then you have successfully established a connection with the database server!"
   ]
  },
  {
   "cell_type": "markdown",
   "metadata": {},
   "source": [
    "# Saving DataJoint configuration across sessions"
   ]
  },
  {
   "cell_type": "markdown",
   "metadata": {},
   "source": [
    "By default, all changes made to the `dj.config` are reset when you reset your Python session, and thus you would have to configure the connection every time you start a new Python kernel.\n",
    "\n",
    "To save yourself the hassle, you can save the current configuration to **a local configuration file**, by default called `dj_local_config.json`. DataJoint will automatically load the configuration file when you import DataJoint the next time."
   ]
  },
  {
   "cell_type": "markdown",
   "metadata": {},
   "source": [
    "To save the current configuration, call the `save_local` method on the `dj.config` object."
   ]
  },
  {
   "cell_type": "code",
   "execution_count": null,
   "metadata": {},
   "outputs": [],
   "source": [
    "# save to local config file\n",
    "dj.config.save_local()"
   ]
  },
  {
   "cell_type": "markdown",
   "metadata": {},
   "source": [
    "Now your configuration is successfully saved into the local configuration file."
   ]
  },
  {
   "cell_type": "markdown",
   "metadata": {},
   "source": [
    "If you would like to save this config globally, in which case you automatically load this configuration in any directory, you could do `save_global()`"
   ]
  },
  {
   "cell_type": "code",
   "execution_count": null,
   "metadata": {},
   "outputs": [],
   "source": [
    "dj.config.save_global()"
   ]
  },
  {
   "cell_type": "markdown",
   "metadata": {},
   "source": [
    "The local configuration overwrites the global one."
   ]
  },
  {
   "cell_type": "markdown",
   "metadata": {},
   "source": [
    "# Changing the password"
   ]
  },
  {
   "cell_type": "markdown",
   "metadata": {},
   "source": [
    "The username and password used to connect to this tutorial database is that of your ***datajoint.io*** account, you can change this password on the [datajoint.io](https://datajoint.io) website. \n",
    "\n",
    "You can also directly change this database connection password using the `dj.set_password()` method. This is particularly useful if you are using DataJoint outside of this tutorial, where your ***datajoint.io*** credentials are not used for database connection."
   ]
  },
  {
   "cell_type": "code",
   "execution_count": null,
   "metadata": {},
   "outputs": [],
   "source": [
    "# To change your password, run: dj.set_password()"
   ]
  },
  {
   "cell_type": "markdown",
   "metadata": {},
   "source": [
    "Congratulations! You have successfully updated your database password via DataJoint! Now be sure to update and save the configuration with the new password."
   ]
  },
  {
   "cell_type": "code",
   "execution_count": null,
   "metadata": {},
   "outputs": [],
   "source": [
    "# if you did change your password, update the config\n",
    "# dj.config['database.password'] = 'ENTER YOUR NEW PASSWORD HERE'\n",
    "\n",
    "# and save it globally within this environment\n",
    "dj.config.save_global()"
   ]
  },
  {
   "cell_type": "markdown",
   "metadata": {},
   "source": [
    "# Final check of your DataJoint configuration"
   ]
  },
  {
   "cell_type": "markdown",
   "metadata": {},
   "source": [
    "To verify that everything is working, go ahead and restart the Jupyter notebook kernel (hit restart icon or go Kernel > Restart). Once restarted, execute the following to verify your connection works. The connection information should now be loaded automatically."
   ]
  },
  {
   "cell_type": "code",
   "execution_count": null,
   "metadata": {},
   "outputs": [],
   "source": [
    "import datajoint as dj\n",
    "dj.conn()  # connect using saved configuration"
   ]
  },
  {
   "cell_type": "markdown",
   "metadata": {},
   "source": [
    "# Continue with the tutorial"
   ]
  },
  {
   "cell_type": "markdown",
   "metadata": {},
   "source": [
    "If all of the above worked, then you are now ready to continue on with the tutorial!\n",
    "The next step in the tutorial is to:\n",
    "1. learn the basic of the DataJoint framework with [01-DataJoint Basics](./01-DataJoint%20Basics%20-%20Interactive.ipynb)\n",
    "2. data ingestion in a pipeline, with practical examples in 2 domains:\n",
    "    + [02-electrophysiology](/02-Electrophysiology/02-Imported%20Tables%20-%20Interactive.ipynb)\n",
    "    + [02-calcium imaging](./01-Calcium_Imaging/02-Imported%20Tables%20-%20Interactive.ipynb)\n",
    "3. more advanced topics on built-in automatic computation of the pipeline with DataJoint, also with practical examples from:\n",
    "    + [03-electrophysiology](/02-Electrophysiology/03-Computed%20Table%2C%20Lookup%20Table%2C%20and%20Part%20Table%20-%20Completed.ipynb)\n",
    "    + [03-calcium imaging](./01-Calcium_Imaging/03-Computed%20Table%2C%20Lookup%20Table%2C%20and%20Part%20Table%20-%20Completed.ipynb)"
   ]
  },
  {
   "cell_type": "markdown",
   "metadata": {},
   "source": [
    "As you will find out that these tutorial notebooks are meant to be interactive. There will be empty cells meant for you to write the code yourself, as mini exercises. To access the notebooks with complete solutions, visit this [folder](../03-Completed_Exercises)."
   ]
  }
 ],
 "metadata": {
  "kernelspec": {
   "display_name": "Python 3",
   "language": "python",
   "name": "python3"
  },
  "language_info": {
   "codemirror_mode": {
    "name": "ipython",
    "version": 3
   },
   "file_extension": ".py",
   "mimetype": "text/x-python",
   "name": "python",
   "nbconvert_exporter": "python",
   "pygments_lexer": "ipython3",
   "version": "3.7.16"
  },
  "vscode": {
   "interpreter": {
    "hash": "949777d72b0d2535278d3dc13498b2535136f6dfe0678499012e853ee9abcab1"
   }
  }
 },
 "nbformat": 4,
 "nbformat_minor": 2
}
