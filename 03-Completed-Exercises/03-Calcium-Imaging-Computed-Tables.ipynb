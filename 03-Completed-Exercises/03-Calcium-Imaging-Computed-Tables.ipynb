{
 "cells": [
  {
   "cell_type": "markdown",
   "metadata": {},
   "source": [
    "# Working with automated computations: Computed tables"
   ]
  },
  {
   "cell_type": "markdown",
   "metadata": {},
   "source": [
    "Welcome back! In this session, we are going to continue working with the pipeline for the mouse electrophysiology example. \n",
    "\n",
    "In this session, we will learn to:\n",
    "\n",
    "* compute various statistics for each neuron by defining a `Computed` table\n",
    "* define a `Lookup` table to store parameters for computation\n",
    "* define another `Computed` table to perform spike detection and store the detected spikes\n",
    "* automatically trigger computations for all missing entries with `populate`\n",
    "* define a `Part` table to save the results computed with the master `Computed` table"
   ]
  },
  {
   "cell_type": "markdown",
   "metadata": {},
   "source": [
    "Let's import `datajoint` again."
   ]
  },
  {
   "cell_type": "code",
   "execution_count": 1,
   "metadata": {},
   "outputs": [],
   "source": [
    "import datajoint as dj"
   ]
  },
  {
   "cell_type": "markdown",
   "metadata": {},
   "source": [
    "As we are going to perform some computations, let's go ahead and import NumPy and Matplotlib."
   ]
  },
  {
   "cell_type": "code",
   "execution_count": 2,
   "metadata": {},
   "outputs": [],
   "source": [
    "import numpy as np\n",
    "import matplotlib.pyplot as plt\n",
    "%matplotlib inline"
   ]
  },
  {
   "cell_type": "markdown",
   "metadata": {},
   "source": [
    "Similarly as before, to continue working with the tables we defined in the previous notebook, we can either redefine the classes for each table `Mouse`, `Session`, `Scan`, `AverageFrame` and populate them. Or, again for your convenience, we can import them from the `tutorial_pipeline.imaging` module. "
   ]
  },
  {
   "cell_type": "code",
   "execution_count": 3,
   "metadata": {},
   "outputs": [
    {
     "name": "stdout",
     "output_type": "stream",
     "text": [
      "Connecting shan@workshop-db.datajoint.io:3306\n"
     ]
    }
   ],
   "source": [
    "from tutorial_pipeline.imaging import schema, Mouse, Session, Scan, AverageFrame"
   ]
  },
  {
   "cell_type": "code",
   "execution_count": 4,
   "metadata": {},
   "outputs": [
    {
     "data": {
      "text/html": [
       "\n",
       "        \n",
       "        <style type=\"text/css\">\n",
       "            .Relation{\n",
       "                border-collapse:collapse;\n",
       "            }\n",
       "            .Relation th{\n",
       "                background: #A0A0A0; color: #ffffff; padding:4px; border:#f0e0e0 1px solid;\n",
       "                font-weight: normal; font-family: monospace; font-size: 100%;\n",
       "            }\n",
       "            .Relation td{\n",
       "                padding:4px; border:#f0e0e0 1px solid; font-size:100%;\n",
       "            }\n",
       "            .Relation tr:nth-child(odd){\n",
       "                background: #ffffff;\n",
       "            }\n",
       "            .Relation tr:nth-child(even){\n",
       "                background: #f3f1ff;\n",
       "            }\n",
       "            /* Tooltip container */\n",
       "            .djtooltip {\n",
       "            }\n",
       "            /* Tooltip text */\n",
       "            .djtooltip .djtooltiptext {\n",
       "                visibility: hidden;\n",
       "                width: 120px;\n",
       "                background-color: black;\n",
       "                color: #fff;\n",
       "                text-align: center;\n",
       "                padding: 5px 0;\n",
       "                border-radius: 6px;\n",
       "                /* Position the tooltip text - see examples below! */\n",
       "                position: absolute;\n",
       "                z-index: 1;\n",
       "            }\n",
       "            #primary {\n",
       "                font-weight: bold;\n",
       "                color: black;\n",
       "            }\n",
       "\n",
       "            #nonprimary {\n",
       "                font-weight: normal;\n",
       "                color: white;\n",
       "            }\n",
       "\n",
       "            /* Show the tooltip text when you mouse over the tooltip container */\n",
       "            .djtooltip:hover .djtooltiptext {\n",
       "                visibility: visible;\n",
       "            }\n",
       "        </style>\n",
       "        \n",
       "        <b>Experiment session</b>\n",
       "            <div style=\"max-height:1000px;max-width:1500px;overflow:auto;\">\n",
       "            <table border=\"1\" class=\"Relation\">\n",
       "                <thead> <tr style=\"text-align: right;\"> <th> <div class=\"djtooltip\">\n",
       "                                <p id=\"primary\">mouse_id</p>\n",
       "                                <span class=\"djtooltiptext\">Unique animal ID</span>\n",
       "                            </div></th><th><div class=\"djtooltip\">\n",
       "                                <p id=\"primary\">session_date</p>\n",
       "                                <span class=\"djtooltiptext\">date</span>\n",
       "                            </div></th><th><div class=\"djtooltip\">\n",
       "                                <p id=\"nonprimary\">experiment_setup</p>\n",
       "                                <span class=\"djtooltiptext\">experiment setup ID</span>\n",
       "                            </div></th><th><div class=\"djtooltip\">\n",
       "                                <p id=\"nonprimary\">experimenter</p>\n",
       "                                <span class=\"djtooltiptext\">experimenter name</span>\n",
       "                            </div></th><th><div class=\"djtooltip\">\n",
       "                                <p id=\"nonprimary\">data_path</p>\n",
       "                                <span class=\"djtooltiptext\"></span>\n",
       "                            </div> </th> </tr> </thead>\n",
       "                <tbody> <tr> <td>0</td>\n",
       "<td>2017-05-15</td>\n",
       "<td>0</td>\n",
       "<td>Edgar Y. Walker</td>\n",
       "<td>data</td></tr><tr><td>0</td>\n",
       "<td>2017-05-19</td>\n",
       "<td>0</td>\n",
       "<td>Edgar Y. Walker</td>\n",
       "<td>data</td></tr><tr><td>5</td>\n",
       "<td>2017-01-05</td>\n",
       "<td>1</td>\n",
       "<td>Fabian Sinz</td>\n",
       "<td>data</td></tr><tr><td>100</td>\n",
       "<td>2017-05-25</td>\n",
       "<td>100</td>\n",
       "<td>Jacob Reimer</td>\n",
       "<td>data</td> </tr> </tbody>\n",
       "            </table>\n",
       "            \n",
       "            <p>Total: 4</p></div>\n",
       "            "
      ],
      "text/plain": [
       "*mouse_id    *session_date  experiment_set experimenter   data_path    \n",
       "+----------+ +------------+ +------------+ +------------+ +-----------+\n",
       "0            2017-05-15     0              Edgar Y. Walke data         \n",
       "0            2017-05-19     0              Edgar Y. Walke data         \n",
       "5            2017-01-05     1              Fabian Sinz    data         \n",
       "100          2017-05-25     100            Jacob Reimer   data         \n",
       " (Total: 4)"
      ]
     },
     "execution_count": 4,
     "metadata": {},
     "output_type": "execute_result"
    }
   ],
   "source": [
    "Session()"
   ]
  },
  {
   "cell_type": "code",
   "execution_count": 5,
   "metadata": {},
   "outputs": [
    {
     "data": {
      "text/html": [
       "\n",
       "        \n",
       "        <style type=\"text/css\">\n",
       "            .Relation{\n",
       "                border-collapse:collapse;\n",
       "            }\n",
       "            .Relation th{\n",
       "                background: #A0A0A0; color: #ffffff; padding:4px; border:#f0e0e0 1px solid;\n",
       "                font-weight: normal; font-family: monospace; font-size: 100%;\n",
       "            }\n",
       "            .Relation td{\n",
       "                padding:4px; border:#f0e0e0 1px solid; font-size:100%;\n",
       "            }\n",
       "            .Relation tr:nth-child(odd){\n",
       "                background: #ffffff;\n",
       "            }\n",
       "            .Relation tr:nth-child(even){\n",
       "                background: #f3f1ff;\n",
       "            }\n",
       "            /* Tooltip container */\n",
       "            .djtooltip {\n",
       "            }\n",
       "            /* Tooltip text */\n",
       "            .djtooltip .djtooltiptext {\n",
       "                visibility: hidden;\n",
       "                width: 120px;\n",
       "                background-color: black;\n",
       "                color: #fff;\n",
       "                text-align: center;\n",
       "                padding: 5px 0;\n",
       "                border-radius: 6px;\n",
       "                /* Position the tooltip text - see examples below! */\n",
       "                position: absolute;\n",
       "                z-index: 1;\n",
       "            }\n",
       "            #primary {\n",
       "                font-weight: bold;\n",
       "                color: black;\n",
       "            }\n",
       "\n",
       "            #nonprimary {\n",
       "                font-weight: normal;\n",
       "                color: white;\n",
       "            }\n",
       "\n",
       "            /* Show the tooltip text when you mouse over the tooltip container */\n",
       "            .djtooltip:hover .djtooltiptext {\n",
       "                visibility: visible;\n",
       "            }\n",
       "        </style>\n",
       "        \n",
       "        <b></b>\n",
       "            <div style=\"max-height:1000px;max-width:1500px;overflow:auto;\">\n",
       "            <table border=\"1\" class=\"Relation\">\n",
       "                <thead> <tr style=\"text-align: right;\"> <th> <div class=\"djtooltip\">\n",
       "                                <p id=\"primary\">mouse_id</p>\n",
       "                                <span class=\"djtooltiptext\">Unique animal ID</span>\n",
       "                            </div></th><th><div class=\"djtooltip\">\n",
       "                                <p id=\"primary\">session_date</p>\n",
       "                                <span class=\"djtooltiptext\">date</span>\n",
       "                            </div></th><th><div class=\"djtooltip\">\n",
       "                                <p id=\"primary\">scan_idx</p>\n",
       "                                <span class=\"djtooltiptext\">scan index</span>\n",
       "                            </div></th><th><div class=\"djtooltip\">\n",
       "                                <p id=\"nonprimary\">depth</p>\n",
       "                                <span class=\"djtooltiptext\">depth of this scan</span>\n",
       "                            </div></th><th><div class=\"djtooltip\">\n",
       "                                <p id=\"nonprimary\">wavelength</p>\n",
       "                                <span class=\"djtooltiptext\">wavelength used</span>\n",
       "                            </div></th><th><div class=\"djtooltip\">\n",
       "                                <p id=\"nonprimary\">laser_power</p>\n",
       "                                <span class=\"djtooltiptext\">power of the laser used</span>\n",
       "                            </div></th><th><div class=\"djtooltip\">\n",
       "                                <p id=\"nonprimary\">fps</p>\n",
       "                                <span class=\"djtooltiptext\">frames per second</span>\n",
       "                            </div></th><th><div class=\"djtooltip\">\n",
       "                                <p id=\"nonprimary\">file_name</p>\n",
       "                                <span class=\"djtooltiptext\">name of the tif file</span>\n",
       "                            </div> </th> </tr> </thead>\n",
       "                <tbody> <tr> <td>0</td>\n",
       "<td>2017-05-15</td>\n",
       "<td>1</td>\n",
       "<td>150.0</td>\n",
       "<td>920.0</td>\n",
       "<td>26.0</td>\n",
       "<td>15.0</td>\n",
       "<td>example_scan_01.tif</td></tr><tr><td>0</td>\n",
       "<td>2017-05-15</td>\n",
       "<td>2</td>\n",
       "<td>200.0</td>\n",
       "<td>920.0</td>\n",
       "<td>24.0</td>\n",
       "<td>15.0</td>\n",
       "<td>example_scan_02.tif</td></tr><tr><td>100</td>\n",
       "<td>2017-05-25</td>\n",
       "<td>1</td>\n",
       "<td>150.0</td>\n",
       "<td>920.0</td>\n",
       "<td>25.0</td>\n",
       "<td>15.0</td>\n",
       "<td>example_scan_03.tif</td> </tr> </tbody>\n",
       "            </table>\n",
       "            \n",
       "            <p>Total: 3</p></div>\n",
       "            "
      ],
      "text/plain": [
       "*mouse_id    *session_date  *scan_idx    depth     wavelength     laser_power    fps      file_name     \n",
       "+----------+ +------------+ +----------+ +-------+ +------------+ +------------+ +------+ +------------+\n",
       "0            2017-05-15     1            150.0     920.0          26.0           15.0     example_scan_0\n",
       "0            2017-05-15     2            200.0     920.0          24.0           15.0     example_scan_0\n",
       "100          2017-05-25     1            150.0     920.0          25.0           15.0     example_scan_0\n",
       " (Total: 3)"
      ]
     },
     "execution_count": 5,
     "metadata": {},
     "output_type": "execute_result"
    }
   ],
   "source": [
    "Scan()"
   ]
  },
  {
   "cell_type": "code",
   "execution_count": 6,
   "metadata": {},
   "outputs": [
    {
     "data": {
      "text/html": [
       "\n",
       "        \n",
       "        <style type=\"text/css\">\n",
       "            .Relation{\n",
       "                border-collapse:collapse;\n",
       "            }\n",
       "            .Relation th{\n",
       "                background: #A0A0A0; color: #ffffff; padding:4px; border:#f0e0e0 1px solid;\n",
       "                font-weight: normal; font-family: monospace; font-size: 100%;\n",
       "            }\n",
       "            .Relation td{\n",
       "                padding:4px; border:#f0e0e0 1px solid; font-size:100%;\n",
       "            }\n",
       "            .Relation tr:nth-child(odd){\n",
       "                background: #ffffff;\n",
       "            }\n",
       "            .Relation tr:nth-child(even){\n",
       "                background: #f3f1ff;\n",
       "            }\n",
       "            /* Tooltip container */\n",
       "            .djtooltip {\n",
       "            }\n",
       "            /* Tooltip text */\n",
       "            .djtooltip .djtooltiptext {\n",
       "                visibility: hidden;\n",
       "                width: 120px;\n",
       "                background-color: black;\n",
       "                color: #fff;\n",
       "                text-align: center;\n",
       "                padding: 5px 0;\n",
       "                border-radius: 6px;\n",
       "                /* Position the tooltip text - see examples below! */\n",
       "                position: absolute;\n",
       "                z-index: 1;\n",
       "            }\n",
       "            #primary {\n",
       "                font-weight: bold;\n",
       "                color: black;\n",
       "            }\n",
       "\n",
       "            #nonprimary {\n",
       "                font-weight: normal;\n",
       "                color: white;\n",
       "            }\n",
       "\n",
       "            /* Show the tooltip text when you mouse over the tooltip container */\n",
       "            .djtooltip:hover .djtooltiptext {\n",
       "                visibility: visible;\n",
       "            }\n",
       "        </style>\n",
       "        \n",
       "        <b></b>\n",
       "            <div style=\"max-height:1000px;max-width:1500px;overflow:auto;\">\n",
       "            <table border=\"1\" class=\"Relation\">\n",
       "                <thead> <tr style=\"text-align: right;\"> <th> <div class=\"djtooltip\">\n",
       "                                <p id=\"primary\">mouse_id</p>\n",
       "                                <span class=\"djtooltiptext\">Unique animal ID</span>\n",
       "                            </div></th><th><div class=\"djtooltip\">\n",
       "                                <p id=\"primary\">session_date</p>\n",
       "                                <span class=\"djtooltiptext\">date</span>\n",
       "                            </div></th><th><div class=\"djtooltip\">\n",
       "                                <p id=\"primary\">scan_idx</p>\n",
       "                                <span class=\"djtooltiptext\">scan index</span>\n",
       "                            </div></th><th><div class=\"djtooltip\">\n",
       "                                <p id=\"nonprimary\">average_frame</p>\n",
       "                                <span class=\"djtooltiptext\">average fluorescence across frames</span>\n",
       "                            </div> </th> </tr> </thead>\n",
       "                <tbody> <tr> <td>0</td>\n",
       "<td>2017-05-15</td>\n",
       "<td>1</td>\n",
       "<td>=BLOB=</td></tr><tr><td>0</td>\n",
       "<td>2017-05-15</td>\n",
       "<td>2</td>\n",
       "<td>=BLOB=</td></tr><tr><td>100</td>\n",
       "<td>2017-05-25</td>\n",
       "<td>1</td>\n",
       "<td>=BLOB=</td> </tr> </tbody>\n",
       "            </table>\n",
       "            \n",
       "            <p>Total: 3</p></div>\n",
       "            "
      ],
      "text/plain": [
       "*mouse_id    *session_date  *scan_idx    average_fr\n",
       "+----------+ +------------+ +----------+ +--------+\n",
       "0            2017-05-15     1            =BLOB=    \n",
       "0            2017-05-15     2            =BLOB=    \n",
       "100          2017-05-25     1            =BLOB=    \n",
       " (Total: 3)"
      ]
     },
     "execution_count": 6,
     "metadata": {},
     "output_type": "execute_result"
    }
   ],
   "source": [
    "AverageFrame()"
   ]
  },
  {
   "cell_type": "markdown",
   "metadata": {},
   "source": [
    "The `imaging.py` also fill each table by inserting manually and loading data from the external tiff files."
   ]
  },
  {
   "cell_type": "markdown",
   "metadata": {},
   "source": [
    "## Computations in data pipeline"
   ]
  },
  {
   "cell_type": "markdown",
   "metadata": {},
   "source": [
    "Now it's time to perform more complicated analyses. \n",
    "\n",
    "When you perform computations in the DataJoint data pipeline, you focus and design tables in terms of **what** is it that you are computing rather than the **how**. You should think in terms of the \"things\" that you are computing!"
   ]
  },
  {
   "cell_type": "markdown",
   "metadata": {},
   "source": [
    "Now, we would like to detect cells from the average image. The final product we would like is the binary **mask** for each individual cell, with the 1 in the region of interest (ROI) and 0 in other places."
   ]
  },
  {
   "cell_type": "markdown",
   "metadata": {},
   "source": [
    "So the new \"thing\" or entity here is `Roi`, where each entry corresponds the mask of one ROI. Let's start designing the table, paying special attention to the dependencies."
   ]
  },
  {
   "cell_type": "markdown",
   "metadata": {},
   "source": [
    "## Detect cells from the average fluorescence image"
   ]
  },
  {
   "cell_type": "markdown",
   "metadata": {},
   "source": [
    "Now let's perform the segmentation to isolate ROIs. Let's start by taking a look at one average fluoresence image."
   ]
  },
  {
   "cell_type": "code",
   "execution_count": 7,
   "metadata": {},
   "outputs": [],
   "source": [
    "keys = AverageFrame.fetch('KEY')\n",
    "\n",
    "# pick one key\n",
    "key = keys[0]"
   ]
  },
  {
   "cell_type": "code",
   "execution_count": 8,
   "metadata": {},
   "outputs": [
    {
     "data": {
      "text/html": [
       "\n",
       "        \n",
       "        <style type=\"text/css\">\n",
       "            .Relation{\n",
       "                border-collapse:collapse;\n",
       "            }\n",
       "            .Relation th{\n",
       "                background: #A0A0A0; color: #ffffff; padding:4px; border:#f0e0e0 1px solid;\n",
       "                font-weight: normal; font-family: monospace; font-size: 100%;\n",
       "            }\n",
       "            .Relation td{\n",
       "                padding:4px; border:#f0e0e0 1px solid; font-size:100%;\n",
       "            }\n",
       "            .Relation tr:nth-child(odd){\n",
       "                background: #ffffff;\n",
       "            }\n",
       "            .Relation tr:nth-child(even){\n",
       "                background: #f3f1ff;\n",
       "            }\n",
       "            /* Tooltip container */\n",
       "            .djtooltip {\n",
       "            }\n",
       "            /* Tooltip text */\n",
       "            .djtooltip .djtooltiptext {\n",
       "                visibility: hidden;\n",
       "                width: 120px;\n",
       "                background-color: black;\n",
       "                color: #fff;\n",
       "                text-align: center;\n",
       "                padding: 5px 0;\n",
       "                border-radius: 6px;\n",
       "                /* Position the tooltip text - see examples below! */\n",
       "                position: absolute;\n",
       "                z-index: 1;\n",
       "            }\n",
       "            #primary {\n",
       "                font-weight: bold;\n",
       "                color: black;\n",
       "            }\n",
       "\n",
       "            #nonprimary {\n",
       "                font-weight: normal;\n",
       "                color: white;\n",
       "            }\n",
       "\n",
       "            /* Show the tooltip text when you mouse over the tooltip container */\n",
       "            .djtooltip:hover .djtooltiptext {\n",
       "                visibility: visible;\n",
       "            }\n",
       "        </style>\n",
       "        \n",
       "        <b></b>\n",
       "            <div style=\"max-height:1000px;max-width:1500px;overflow:auto;\">\n",
       "            <table border=\"1\" class=\"Relation\">\n",
       "                <thead> <tr style=\"text-align: right;\"> <th> <div class=\"djtooltip\">\n",
       "                                <p id=\"primary\">mouse_id</p>\n",
       "                                <span class=\"djtooltiptext\">Unique animal ID</span>\n",
       "                            </div></th><th><div class=\"djtooltip\">\n",
       "                                <p id=\"primary\">session_date</p>\n",
       "                                <span class=\"djtooltiptext\">date</span>\n",
       "                            </div></th><th><div class=\"djtooltip\">\n",
       "                                <p id=\"primary\">scan_idx</p>\n",
       "                                <span class=\"djtooltiptext\">scan index</span>\n",
       "                            </div></th><th><div class=\"djtooltip\">\n",
       "                                <p id=\"nonprimary\">average_frame</p>\n",
       "                                <span class=\"djtooltiptext\">average fluorescence across frames</span>\n",
       "                            </div> </th> </tr> </thead>\n",
       "                <tbody> <tr> <td>0</td>\n",
       "<td>2017-05-15</td>\n",
       "<td>1</td>\n",
       "<td>=BLOB=</td> </tr> </tbody>\n",
       "            </table>\n",
       "            \n",
       "            <p>Total: 1</p></div>\n",
       "            "
      ],
      "text/plain": [
       "*mouse_id    *session_date  *scan_idx    average_fr\n",
       "+----------+ +------------+ +----------+ +--------+\n",
       "0            2017-05-15     1            =BLOB=    \n",
       " (Total: 1)"
      ]
     },
     "execution_count": 8,
     "metadata": {},
     "output_type": "execute_result"
    }
   ],
   "source": [
    "# ENTER YOUR CODE! - preview an AverageFrame for a particular key\n",
    "AverageFrame & key"
   ]
  },
  {
   "cell_type": "code",
   "execution_count": 9,
   "metadata": {},
   "outputs": [],
   "source": [
    "avg_image = AverageFrame.fetch('average_frame')"
   ]
  },
  {
   "cell_type": "code",
   "execution_count": 10,
   "metadata": {},
   "outputs": [
    {
     "data": {
      "text/plain": [
       "array([array([[32.73, 30.77, 31.74, ..., 65.76, 62.77, 58.65],\n",
       "       [30.07, 27.96, 28.74, ..., 60.11, 58.1 , 54.59],\n",
       "       [28.91, 27.02, 27.12, ..., 58.01, 56.1 , 53.25],\n",
       "       ...,\n",
       "       [35.17, 35.56, 34.37, ..., 21.08, 21.45, 21.09],\n",
       "       [33.14, 35.73, 37.64, ..., 20.42, 21.24, 21.51],\n",
       "       [33.52, 37.65, 41.71, ..., 19.82, 20.29, 21.36]]),\n",
       "       array([[ 29.53,  30.8 ,  30.96, ..., 230.09, 230.78, 228.19],\n",
       "       [ 29.61,  29.69,  30.71, ..., 224.86, 227.21, 227.22],\n",
       "       [ 29.61,  28.28,  30.19, ..., 220.51, 224.43, 224.85],\n",
       "       ...,\n",
       "       [ 23.67,  23.05,  24.06, ...,  32.54,  32.07,  35.28],\n",
       "       [ 24.03,  22.45,  22.4 , ...,  31.67,  30.75,  32.72],\n",
       "       [ 25.78,  23.27,  21.92, ...,  31.12,  31.29,  32.94]]),\n",
       "       array([[41.55, 40.2 , 38.3 , ..., 55.67, 57.17, 58.65],\n",
       "       [43.66, 42.2 , 38.59, ..., 50.35, 54.83, 57.9 ],\n",
       "       [42.07, 41.46, 38.3 , ..., 49.46, 52.67, 55.61],\n",
       "       ...,\n",
       "       [30.04, 31.05, 30.92, ..., 45.04, 44.93, 44.81],\n",
       "       [28.88, 29.52, 29.93, ..., 46.5 , 45.65, 45.13],\n",
       "       [27.84, 27.34, 28.5 , ..., 42.75, 43.28, 45.17]])], dtype=object)"
      ]
     },
     "execution_count": 10,
     "metadata": {},
     "output_type": "execute_result"
    }
   ],
   "source": [
    "avg_image"
   ]
  },
  {
   "cell_type": "markdown",
   "metadata": {},
   "source": [
    "It's a bit subtle, but `fetch` returns a NumPy array of the attribute, even if the attribute contains a NumPy array. So here, we actually got a NumPy array of NumPy array. We can of course just index into it,"
   ]
  },
  {
   "cell_type": "code",
   "execution_count": 11,
   "metadata": {},
   "outputs": [
    {
     "data": {
      "text/plain": [
       "array([[32.73, 30.77, 31.74, ..., 65.76, 62.77, 58.65],\n",
       "       [30.07, 27.96, 28.74, ..., 60.11, 58.1 , 54.59],\n",
       "       [28.91, 27.02, 27.12, ..., 58.01, 56.1 , 53.25],\n",
       "       ...,\n",
       "       [35.17, 35.56, 34.37, ..., 21.08, 21.45, 21.09],\n",
       "       [33.14, 35.73, 37.64, ..., 20.42, 21.24, 21.51],\n",
       "       [33.52, 37.65, 41.71, ..., 19.82, 20.29, 21.36]])"
      ]
     },
     "execution_count": 11,
     "metadata": {},
     "output_type": "execute_result"
    }
   ],
   "source": [
    "avg_image[0]"
   ]
  },
  {
   "cell_type": "markdown",
   "metadata": {},
   "source": [
    "but if we knew that there was only one item, we can use `fetch1` instead to save some trouble"
   ]
  },
  {
   "cell_type": "code",
   "execution_count": 12,
   "metadata": {},
   "outputs": [],
   "source": [
    "avg_image = (AverageFrame & key).fetch1('average_frame')"
   ]
  },
  {
   "cell_type": "code",
   "execution_count": 13,
   "metadata": {},
   "outputs": [
    {
     "data": {
      "text/plain": [
       "array([[32.73, 30.77, 31.74, ..., 65.76, 62.77, 58.65],\n",
       "       [30.07, 27.96, 28.74, ..., 60.11, 58.1 , 54.59],\n",
       "       [28.91, 27.02, 27.12, ..., 58.01, 56.1 , 53.25],\n",
       "       ...,\n",
       "       [35.17, 35.56, 34.37, ..., 21.08, 21.45, 21.09],\n",
       "       [33.14, 35.73, 37.64, ..., 20.42, 21.24, 21.51],\n",
       "       [33.52, 37.65, 41.71, ..., 19.82, 20.29, 21.36]])"
      ]
     },
     "execution_count": 13,
     "metadata": {},
     "output_type": "execute_result"
    }
   ],
   "source": [
    "avg_image"
   ]
  },
  {
   "cell_type": "markdown",
   "metadata": {},
   "source": [
    "Let's plot to take a quick look:"
   ]
  },
  {
   "cell_type": "code",
   "execution_count": 14,
   "metadata": {},
   "outputs": [
    {
     "data": {
      "text/plain": [
       "<matplotlib.image.AxesImage at 0x1c18312d30>"
      ]
     },
     "execution_count": 14,
     "metadata": {},
     "output_type": "execute_result"
    },
    {
     "data": {
      "image/png": "[encoded data removed]",
      "text/plain": [
       "<Figure size 432x288 with 1 Axes>"
      ]
     },
     "metadata": {
      "needs_background": "light"
     },
     "output_type": "display_data"
    }
   ],
   "source": [
    "plt.imshow(avg_image, cmap=plt.cm.gray)"
   ]
  },
  {
   "cell_type": "markdown",
   "metadata": {},
   "source": [
    "There are multiple ways to perform the segementation. To keep it simple, we just detect the cells by setting up the threshold on the average image."
   ]
  },
  {
   "cell_type": "code",
   "execution_count": 15,
   "metadata": {},
   "outputs": [
    {
     "data": {
      "text/plain": [
       "<matplotlib.image.AxesImage at 0x1c184ffb00>"
      ]
     },
     "execution_count": 15,
     "metadata": {},
     "output_type": "execute_result"
    },
    {
     "data": {
      "image/png": "[encoded data removed]",
      "text/plain": [
       "<Figure size 432x288 with 1 Axes>"
      ]
     },
     "metadata": {
      "needs_background": "light"
     },
     "output_type": "display_data"
    }
   ],
   "source": [
    "threshold = 50\n",
    "mask = avg_image > threshold\n",
    "plt.imshow(mask)"
   ]
  },
  {
   "cell_type": "markdown",
   "metadata": {},
   "source": [
    "The outcome is different across different threholds we set. Therefore, this threshold is a parameter we could potentially tweak."
   ]
  },
  {
   "cell_type": "code",
   "execution_count": 16,
   "metadata": {},
   "outputs": [
    {
     "data": {
      "text/plain": [
       "<matplotlib.image.AxesImage at 0x1c185e4ba8>"
      ]
     },
     "execution_count": 16,
     "metadata": {},
     "output_type": "execute_result"
    },
    {
     "data": {
      "image/png": "[encoded data removed]",
      "text/plain": [
       "<Figure size 432x288 with 1 Axes>"
      ]
     },
     "metadata": {
      "needs_background": "light"
     },
     "output_type": "display_data"
    }
   ],
   "source": [
    "threshold = 60\n",
    "mask = avg_image > threshold\n",
    "plt.imshow(mask)"
   ]
  },
  {
   "cell_type": "markdown",
   "metadata": {},
   "source": [
    "Now we could use scipy.ndimage to detect the blobs from this binary mask\n",
    "\n",
    "For the detailed tutorial, please refer to https://scipy-lectures.org/advanced/image_processing/index.html#segmentation"
   ]
  },
  {
   "cell_type": "code",
   "execution_count": 17,
   "metadata": {},
   "outputs": [],
   "source": [
    "from scipy import ndimage"
   ]
  },
  {
   "cell_type": "markdown",
   "metadata": {},
   "source": [
    "The method `label` marks each blob with different number, `label_im` is the image with different blobs marked with different number and `nb_labels` is the number of blobs that are detected"
   ]
  },
  {
   "cell_type": "code",
   "execution_count": 18,
   "metadata": {},
   "outputs": [
    {
     "name": "stdout",
     "output_type": "stream",
     "text": [
      "10\n"
     ]
    },
    {
     "data": {
      "text/plain": [
       "<matplotlib.image.AxesImage at 0x1c186e2978>"
      ]
     },
     "execution_count": 18,
     "metadata": {},
     "output_type": "execute_result"
    },
    {
     "data": {
      "image/png": "[encoded data removed]",
      "text/plain": [
       "<Figure size 432x288 with 1 Axes>"
      ]
     },
     "metadata": {
      "needs_background": "light"
     },
     "output_type": "display_data"
    }
   ],
   "source": [
    "label_im, nb_labels = ndimage.label(mask)\n",
    "print(nb_labels)\n",
    "plt.imshow(label_im) "
   ]
  },
  {
   "cell_type": "code",
   "execution_count": 19,
   "metadata": {},
   "outputs": [
    {
     "data": {
      "text/plain": [
       "array([ 0,  1,  2,  3,  4,  5,  6,  7,  8,  9, 10], dtype=int32)"
      ]
     },
     "execution_count": 19,
     "metadata": {},
     "output_type": "execute_result"
    }
   ],
   "source": [
    "np.unique(label_im)"
   ]
  },
  {
   "cell_type": "markdown",
   "metadata": {},
   "source": [
    "0 marks the background and 1 to 10 mark the detected blobs. Some of these are too small to be cells. We could set a cutoff on size to filter out the small blobs. Here the cutoff is another parameter that could be tweaked."
   ]
  },
  {
   "cell_type": "code",
   "execution_count": 20,
   "metadata": {},
   "outputs": [
    {
     "data": {
      "text/plain": [
       "<matplotlib.image.AxesImage at 0x1c18765a90>"
      ]
     },
     "execution_count": 20,
     "metadata": {},
     "output_type": "execute_result"
    },
    {
     "data": {
      "image/png": "[encoded data removed]",
      "text/plain": [
       "<Figure size 432x288 with 1 Axes>"
      ]
     },
     "metadata": {
      "needs_background": "light"
     },
     "output_type": "display_data"
    }
   ],
   "source": [
    "size_cutoff = 50\n",
    "sizes = np.array([np.sum(label_im==i) for i in np.unique(label_im)])\n",
    "\n",
    "small_size_filter = sizes < size_cutoff\n",
    "pixel_to_remove = small_size_filter[label_im]\n",
    "\n",
    "label_im[pixel_to_remove] = 0\n",
    "plt.imshow(label_im)"
   ]
  },
  {
   "cell_type": "markdown",
   "metadata": {},
   "source": [
    "Now there are only two blobs left."
   ]
  },
  {
   "cell_type": "markdown",
   "metadata": {},
   "source": [
    "Next let's separate out each mask."
   ]
  },
  {
   "cell_type": "code",
   "execution_count": 21,
   "metadata": {},
   "outputs": [],
   "source": [
    "rois = []\n",
    "for i in np.unique(label_im)[1:]: # 0 is the background\n",
    "    rois.append(label_im == i)"
   ]
  },
  {
   "cell_type": "markdown",
   "metadata": {},
   "source": [
    "There are two special notes about the analyses we performed above.\n",
    "1. The segmentation results are dependent on the parameters `threshold` and `size_cutoff`. Rather than fixing the value of the threshold, we might want to try different values and see what works well.\n",
    "2. For the segemtation analyses of each `AverageFrame`, the result is a number of ROIs instead of one. We need to perform the analyses on the level of each `AverageFrame`, but save the result on the granularity of each `Roi`.\n",
    "\n",
    "Next we would like to introduce two DataJoint table tiers to help handling these two needs."
   ]
  },
  {
   "cell_type": "markdown",
   "metadata": {},
   "source": [
    "## Parameter `Lookup` table"
   ]
  },
  {
   "cell_type": "markdown",
   "metadata": {},
   "source": [
    "We would like to perform the segmentation for a **combination** of `AverageFrame`s and different set of paremeters of `threshold` and `size_cutoff` values. To do this while still taking advantage of the `make` and `populate` logic, you would want to define a table to house parameters for segmentation in a `Lookup` table!"
   ]
  },
  {
   "cell_type": "markdown",
   "metadata": {},
   "source": [
    "Let's define `Param` table to hold different parameter configuration for our spike detection algorithm. We are going to define this table as a `Lookup` table, rather than a `Manual` table. By now, you know that `Lookup` must be yet another **table tier** in DataJoint. `Lookup` tables are depicted by gray boxes in the Diagram.\n",
    "\n",
    "This tier indicates that the table will contain information:\n",
    "* that will be referenced by other tables\n",
    "* that doesn't change much - usually contains a few pre-known entries"
   ]
  },
  {
   "cell_type": "code",
   "execution_count": 34,
   "metadata": {},
   "outputs": [],
   "source": [
    "@schema\n",
    "class SegmentationParam(dj.Lookup):\n",
    "    definition = \"\"\"\n",
    "    seg_param_id        : int      # unique id for cell segmentation parameter set\n",
    "    ---\n",
    "    threshold           : float\n",
    "    size_cutoff         : float\n",
    "    \"\"\""
   ]
  },
  {
   "cell_type": "code",
   "execution_count": 25,
   "metadata": {},
   "outputs": [
    {
     "data": {
      "image/svg+xml": "<svg height=\"256pt\" viewBox=\"0.00 0.00 220.39 256.00\" width=\"220pt\" xmlns=\"http://www.w3.org/2000/svg\" xmlns:xlink=\"http://www.w3.org/1999/xlink\">\n<g class=\"graph\" id=\"graph0\" transform=\"scale(1 1) rotate(0) translate(4 252)\">\n<title>%3</title>\n<polygon fill=\"#ffffff\" points=\"-4,4 -4,-252 216.3895,-252 216.3895,4 -4,4\" stroke=\"transparent\"/>\n<!-- Mouse -->\n<g class=\"node\" id=\"node1\">\n<title>Mouse</title>\n<g id=\"a_node1\"><a xlink:title=\"mouse_id             \r\n------------------------------\r\ndob=null             \r\nsex=&quot;unknown&quot;        \r\n\">\n<polygon fill=\"#00ff00\" fill-opacity=\"0.188235\" points=\"86.826,-248 34.7908,-248 34.7908,-213 86.826,-213 86.826,-248\" stroke=\"#00ff00\" stroke-opacity=\"0.188235\"/>\n<text fill=\"#006400\" font-family=\"arial\" font-size=\"12.00\" text-anchor=\"start\" text-decoration=\"underline\" x=\"42.7996\" y=\"-228.7994\">Mouse</text>\n</a>\n</g>\n</g>\n<!-- Session -->\n<g class=\"node\" id=\"node2\">\n<title>Session</title>\n<g id=\"a_node2\"><a xlink:title=\"→ Mouse\r\nsession_date         \r\n------------------------------\r\nexperiment_setup     \r\nexperimenter         \r\ndata_path=&quot;&quot;         \r\n\">\n<polygon fill=\"#00ff00\" fill-opacity=\"0.188235\" points=\"90.0006,-177 31.6162,-177 31.6162,-142 90.0006,-142 90.0006,-177\" stroke=\"#00ff00\" stroke-opacity=\"0.188235\"/>\n<text fill=\"#006400\" font-family=\"arial\" font-size=\"12.00\" text-anchor=\"start\" text-decoration=\"underline\" x=\"39.4627\" y=\"-157.7994\">Session</text>\n</a>\n</g>\n</g>\n<!-- Mouse&#45;&gt;Session -->\n<g class=\"edge\" id=\"edge1\">\n<title>Mouse-&gt;Session</title>\n<path d=\"M60.8084,-212.9494C60.8084,-202.1083 60.8084,-188.2366 60.8084,-177.3418\" fill=\"none\" stroke=\"#000000\" stroke-opacity=\"0.250980\" stroke-width=\".75\"/>\n</g>\n<!-- Scan -->\n<g class=\"node\" id=\"node5\">\n<title>Scan</title>\n<g id=\"a_node5\"><a xlink:title=\"→ Session\r\nscan_idx             \r\n------------------------------\r\ndepth                \r\nwavelength           \r\nlaser_power          \r\nfps                  \r\nfile_name            \r\n\">\n<polygon fill=\"#00ff00\" fill-opacity=\"0.188235\" points=\"82.6614,-106 38.9554,-106 38.9554,-71 82.6614,-71 82.6614,-106\" stroke=\"#00ff00\" stroke-opacity=\"0.188235\"/>\n<text fill=\"#006400\" font-family=\"arial\" font-size=\"12.00\" text-anchor=\"start\" text-decoration=\"underline\" x=\"47.1326\" y=\"-86.7994\">Scan</text>\n</a>\n</g>\n</g>\n<!-- Session&#45;&gt;Scan -->\n<g class=\"edge\" id=\"edge2\">\n<title>Session-&gt;Scan</title>\n<path d=\"M60.8084,-141.9494C60.8084,-131.1083 60.8084,-117.2366 60.8084,-106.3418\" fill=\"none\" stroke=\"#000000\" stroke-opacity=\"0.250980\" stroke-width=\".75\"/>\n</g>\n<!-- SegmentationParam -->\n<g class=\"node\" id=\"node3\">\n<title>SegmentationParam</title>\n<g id=\"a_node3\"><a xlink:title=\"seg_param_id         \r\n------------------------------\r\nthreshold            \r\nsize_cutoff          \r\n\">\n<polygon fill=\"#000000\" fill-opacity=\"0.125490\" points=\"212.4707,-248 105.1462,-248 105.1462,-213 212.4707,-213 212.4707,-248\" stroke=\"transparent\"/>\n<text fill=\"#000000\" font-family=\"arial\" font-size=\"10.00\" text-anchor=\"start\" text-decoration=\"underline\" x=\"113.2274\" y=\"-229.2495\">SegmentationParam</text>\n</a>\n</g>\n</g>\n<!-- AverageFrame -->\n<g class=\"node\" id=\"node4\">\n<title>AverageFrame</title>\n<g id=\"a_node4\"><a xlink:title=\"→ Scan\r\n------------------------------\r\naverage_frame        \r\n\">\n<ellipse cx=\"60.8084\" cy=\"-17.5\" fill=\"#00007f\" fill-opacity=\"0.250980\" rx=\"60.6175\" ry=\"17.5\" stroke=\"#00007f\" stroke-opacity=\"0.250980\"/>\n<text fill=\"#00007f\" font-family=\"arial\" font-size=\"12.00\" text-anchor=\"middle\" x=\"60.8084\" y=\"-14.7994\">AverageFrame</text>\n</a>\n</g>\n</g>\n<!-- Scan&#45;&gt;AverageFrame -->\n<g class=\"edge\" id=\"edge3\">\n<title>Scan-&gt;AverageFrame</title>\n<path d=\"M60.8084,-70.9494C60.8084,-60.1083 60.8084,-46.2366 60.8084,-35.3418\" fill=\"none\" stroke=\"#000000\" stroke-opacity=\"0.250980\" stroke-width=\"2\"/>\n</g>\n</g>\n</svg>",
      "text/plain": [
       "<datajoint.diagram.Diagram at 0x1c189a4470>"
      ]
     },
     "execution_count": 25,
     "metadata": {},
     "output_type": "execute_result"
    }
   ],
   "source": [
    "dj.Diagram(schema)"
   ]
  },
  {
   "cell_type": "markdown",
   "metadata": {},
   "source": [
    "So far the `SegmentationParam` is an extra table that did not relate with any of the existing, but the `Segmentation` will depend on this table."
   ]
  },
  {
   "cell_type": "markdown",
   "metadata": {},
   "source": [
    "## Master `Computed` table `Segmentation` and `Part` table for `Roi`"
   ]
  },
  {
   "cell_type": "markdown",
   "metadata": {},
   "source": [
    "As mentioned above, we performed the segmentation processing on each `AverageFrame`, but the product is the masks of each ROI. In this case, we could create a `Computed` table `Segmentation` containing the `make` method to drive the processing, while using a `Part` table to save results into `Roi`.\n",
    "\n",
    "`Computed` table and `Part` table are another two table tiers like `Manual`, `Lookup`, and `Imported` we introduced previously.  \n",
    "\n",
    "`Computed` table is very similar to the `Imported` table, which also supports the definition of `make` function and `populate`. The only difference is that the computation in an `Imported` table is dependent on external data, while the computation in a `Computed` table only depends on data inside the database.\n",
    "\n",
    "Contents in a `Part` table is dependent on its **master** table and the master table could be any type of table. This current example is a very typical usage of Part table. The master `Computed` serves as the driver for computation and the major results with a smaller granularity are saved in the `Part` table."
   ]
  },
  {
   "cell_type": "code",
   "execution_count": 26,
   "metadata": {},
   "outputs": [],
   "source": [
    "@schema\n",
    "class Segmentation(dj.Computed):\n",
    "    definition = \"\"\"\n",
    "    -> AverageFrame\n",
    "    -> SegmentationParam\n",
    "    ---\n",
    "    segmented_masks         : longblob   # overview of segmented masks\n",
    "    \"\"\"\n",
    "    class Roi(dj.Part):\n",
    "        definition = \"\"\"\n",
    "        -> master\n",
    "        roi_idx             : int        # index of an roi\n",
    "        ---\n",
    "        mask                : longblob   # mask of this roi\n",
    "        \"\"\""
   ]
  },
  {
   "cell_type": "markdown",
   "metadata": {},
   "source": [
    "Notice that in the definition of `Roi`, apart from inheriting the primary from its master table `Segmentation`, the Roi has another primary key attribute `roi_idx`. The relationship between `Segmentation` and `Roi` is **one-to-many**."
   ]
  },
  {
   "cell_type": "code",
   "execution_count": 27,
   "metadata": {},
   "outputs": [
    {
     "data": {
      "image/svg+xml": "<svg height=\"373pt\" viewBox=\"0.00 0.00 254.39 373.50\" width=\"254pt\" xmlns=\"http://www.w3.org/2000/svg\" xmlns:xlink=\"http://www.w3.org/1999/xlink\">\n<g class=\"graph\" id=\"graph0\" transform=\"scale(1 1) rotate(0) translate(4 369.499)\">\n<title>%3</title>\n<polygon fill=\"#ffffff\" points=\"-4,4 -4,-369.499 250.3895,-369.499 250.3895,4 -4,4\" stroke=\"transparent\"/>\n<!-- Mouse -->\n<g class=\"node\" id=\"node1\">\n<title>Mouse</title>\n<g id=\"a_node1\"><a xlink:title=\"mouse_id             \r\n------------------------------\r\ndob=null             \r\nsex=&quot;unknown&quot;        \r\n\">\n<polygon fill=\"#00ff00\" fill-opacity=\"0.188235\" points=\"86.826,-365.499 34.7908,-365.499 34.7908,-330.499 86.826,-330.499 86.826,-365.499\" stroke=\"#00ff00\" stroke-opacity=\"0.188235\"/>\n<text fill=\"#006400\" font-family=\"arial\" font-size=\"12.00\" text-anchor=\"start\" text-decoration=\"underline\" x=\"42.7996\" y=\"-346.2984\">Mouse</text>\n</a>\n</g>\n</g>\n<!-- Session -->\n<g class=\"node\" id=\"node2\">\n<title>Session</title>\n<g id=\"a_node2\"><a xlink:title=\"→ Mouse\r\nsession_date         \r\n------------------------------\r\nexperiment_setup     \r\nexperimenter         \r\ndata_path=&quot;&quot;         \r\n\">\n<polygon fill=\"#00ff00\" fill-opacity=\"0.188235\" points=\"90.0006,-294.499 31.6162,-294.499 31.6162,-259.499 90.0006,-259.499 90.0006,-294.499\" stroke=\"#00ff00\" stroke-opacity=\"0.188235\"/>\n<text fill=\"#006400\" font-family=\"arial\" font-size=\"12.00\" text-anchor=\"start\" text-decoration=\"underline\" x=\"39.4627\" y=\"-275.2984\">Session</text>\n</a>\n</g>\n</g>\n<!-- Mouse&#45;&gt;Session -->\n<g class=\"edge\" id=\"edge1\">\n<title>Mouse-&gt;Session</title>\n<path d=\"M60.8084,-330.4485C60.8084,-319.6074 60.8084,-305.7356 60.8084,-294.8408\" fill=\"none\" stroke=\"#000000\" stroke-opacity=\"0.250980\" stroke-width=\".75\"/>\n</g>\n<!-- Scan -->\n<g class=\"node\" id=\"node7\">\n<title>Scan</title>\n<g id=\"a_node7\"><a xlink:title=\"→ Session\r\nscan_idx             \r\n------------------------------\r\ndepth                \r\nwavelength           \r\nlaser_power          \r\nfps                  \r\nfile_name            \r\n\">\n<polygon fill=\"#00ff00\" fill-opacity=\"0.188235\" points=\"82.6614,-223.499 38.9554,-223.499 38.9554,-188.499 82.6614,-188.499 82.6614,-223.499\" stroke=\"#00ff00\" stroke-opacity=\"0.188235\"/>\n<text fill=\"#006400\" font-family=\"arial\" font-size=\"12.00\" text-anchor=\"start\" text-decoration=\"underline\" x=\"47.1326\" y=\"-204.2984\">Scan</text>\n</a>\n</g>\n</g>\n<!-- Session&#45;&gt;Scan -->\n<g class=\"edge\" id=\"edge2\">\n<title>Session-&gt;Scan</title>\n<path d=\"M60.8084,-259.4485C60.8084,-248.6074 60.8084,-234.7356 60.8084,-223.8408\" fill=\"none\" stroke=\"#000000\" stroke-opacity=\"0.250980\" stroke-width=\".75\"/>\n</g>\n<!-- Segmentation -->\n<g class=\"node\" id=\"node3\">\n<title>Segmentation</title>\n<g id=\"a_node3\"><a xlink:title=\"→ AverageFrame\r\n→ SegmentationParam\r\n------------------------------\r\nsegmented_masks      \r\n\">\n<ellipse cx=\"126.8084\" cy=\"-68.499\" fill=\"#ff0000\" fill-opacity=\"0.125490\" rx=\"13.0073\" ry=\"13\" stroke=\"#ff0000\" stroke-opacity=\"0.125490\"/>\n<text fill=\"#7f0000\" font-family=\"arial\" font-size=\"12.00\" text-anchor=\"middle\" x=\"126.8084\" y=\"-65.7984\">Segmentation</text>\n</a>\n</g>\n</g>\n<!-- Segmentation.Roi -->\n<g class=\"node\" id=\"node5\">\n<title>Segmentation.Roi</title>\n<g id=\"a_node5\"><a xlink:title=\"→ Segmentation\r\nroi_idx              \r\n------------------------------\r\nmask                 \r\n\">\n<polygon fill=\"transparent\" points=\"174.8019,-19.7551 78.815,-19.7551 78.815,.2561 174.8019,.2561 174.8019,-19.7551\" stroke=\"transparent\"/>\n<text fill=\"#000000\" font-family=\"arial\" font-size=\"10.00\" text-anchor=\"start\" text-decoration=\"underline\" x=\"87.0623\" y=\"-8.499\">Segmentation.Roi</text>\n</a>\n</g>\n</g>\n<!-- Segmentation&#45;&gt;Segmentation.Roi -->\n<g class=\"edge\" id=\"edge3\">\n<title>Segmentation-&gt;Segmentation.Roi</title>\n<path d=\"M126.8084,-55.4606C126.8084,-44.6431 126.8084,-29.4915 126.8084,-19.6491\" fill=\"none\" stroke=\"#000000\" stroke-opacity=\"0.250980\" stroke-width=\".75\"/>\n</g>\n<!-- SegmentationParam -->\n<g class=\"node\" id=\"node4\">\n<title>SegmentationParam</title>\n<g id=\"a_node4\"><a xlink:title=\"seg_param_id         \r\n------------------------------\r\nthreshold            \r\nsize_cutoff          \r\n\">\n<polygon fill=\"#000000\" fill-opacity=\"0.125490\" points=\"246.4707,-152.499 139.1462,-152.499 139.1462,-117.499 246.4707,-117.499 246.4707,-152.499\" stroke=\"transparent\"/>\n<text fill=\"#000000\" font-family=\"arial\" font-size=\"10.00\" text-anchor=\"start\" text-decoration=\"underline\" x=\"147.2274\" y=\"-133.7485\">SegmentationParam</text>\n</a>\n</g>\n</g>\n<!-- SegmentationParam&#45;&gt;Segmentation -->\n<g class=\"edge\" id=\"edge4\">\n<title>SegmentationParam-&gt;Segmentation</title>\n<path d=\"M175.1216,-117.1782C162.5974,-104.5591 146.2921,-88.1303 136.1902,-77.9518\" fill=\"none\" stroke=\"#000000\" stroke-opacity=\"0.250980\" stroke-width=\".75\"/>\n</g>\n<!-- AverageFrame -->\n<g class=\"node\" id=\"node6\">\n<title>AverageFrame</title>\n<g id=\"a_node6\"><a xlink:title=\"→ Scan\r\n------------------------------\r\naverage_frame        \r\n\">\n<ellipse cx=\"60.8084\" cy=\"-134.999\" fill=\"#00007f\" fill-opacity=\"0.250980\" rx=\"60.6175\" ry=\"17.5\" stroke=\"#00007f\" stroke-opacity=\"0.250980\"/>\n<text fill=\"#00007f\" font-family=\"arial\" font-size=\"12.00\" text-anchor=\"middle\" x=\"60.8084\" y=\"-132.2984\">AverageFrame</text>\n</a>\n</g>\n</g>\n<!-- AverageFrame&#45;&gt;Segmentation -->\n<g class=\"edge\" id=\"edge5\">\n<title>AverageFrame-&gt;Segmentation</title>\n<path d=\"M77.8051,-117.8736C90.4855,-105.0971 107.3255,-88.1296 117.5989,-77.7784\" fill=\"none\" stroke=\"#000000\" stroke-opacity=\"0.250980\" stroke-width=\".75\"/>\n</g>\n<!-- Scan&#45;&gt;AverageFrame -->\n<g class=\"edge\" id=\"edge6\">\n<title>Scan-&gt;AverageFrame</title>\n<path d=\"M60.8084,-188.4485C60.8084,-177.6074 60.8084,-163.7356 60.8084,-152.8408\" fill=\"none\" stroke=\"#000000\" stroke-opacity=\"0.250980\" stroke-width=\"2\"/>\n</g>\n</g>\n</svg>",
      "text/plain": [
       "<datajoint.diagram.Diagram at 0x1c189eb160>"
      ]
     },
     "execution_count": 27,
     "metadata": {},
     "output_type": "execute_result"
    }
   ],
   "source": [
    "dj.Diagram(schema)"
   ]
  },
  {
   "cell_type": "markdown",
   "metadata": {},
   "source": [
    "The `Computed` table is labeled as a pink oval and the `Part` table is bare text. We see that `Segmentation` is a `Computed` table that depends on **both AverageFrame and SegmentationParam**. Finally, let's go ahead and implement the `make` method for the `Segmenation` table. "
   ]
  },
  {
   "cell_type": "code",
   "execution_count": 28,
   "metadata": {},
   "outputs": [],
   "source": [
    "@schema\n",
    "class Segmentation(dj.Computed):\n",
    "    definition = \"\"\"\n",
    "    -> AverageFrame\n",
    "    -> SegmentationParam\n",
    "    ---\n",
    "    segmented_masks         : longblob   # overview of segmented masks\n",
    "    \"\"\"\n",
    "    class Roi(dj.Part):\n",
    "        definition = \"\"\"\n",
    "        -> master\n",
    "        roi_idx             : int        # index of an roi\n",
    "        ---\n",
    "        mask                : longblob   # mask of this roi\n",
    "        \"\"\"\n",
    "    \n",
    "    def make(self, key): # key is one of the primary keys of the join product of AverageFrame and ParameterSet\n",
    "        \n",
    "        print('Populating for: ', key)\n",
    "        \n",
    "        # fetch average image from the previous table AverageFrame\n",
    "        avg_image = (AverageFrame & key).fetch1('average_frame')\n",
    "        \n",
    "        # fetch the parameters threshold and size_cutoff\n",
    "        threshold, size_cutoff = (SegmentationParam & key).fetch1(\n",
    "            'threshold', 'size_cutoff')\n",
    "        \n",
    "        # perform the thresholding and blob detection\n",
    "        mask = avg_image > threshold\n",
    "        label_im, nb_labels = ndimage.label(mask)\n",
    "        sizes = np.array([np.sum(label_im==i) for i in np.unique(label_im)])\n",
    "\n",
    "        small_size_filter = sizes < size_cutoff\n",
    "        pixel_to_remove = small_size_filter[label_im]\n",
    "\n",
    "        label_im[pixel_to_remove] = 0\n",
    "        \n",
    "        rois = []\n",
    "        for i in np.unique(label_im)[1:]: # 0 is the background\n",
    "            rois.append(\n",
    "                dict(**key,       # inherit primary key from master table\n",
    "                     roi_idx=i,    \n",
    "                     mask=label_im==i))\n",
    "        \n",
    "        # insert into the master table first\n",
    "        self.insert1(\n",
    "            dict(**key, segmented_masks=label_im)\n",
    "        )\n",
    "        print('Detected {} ROIs!\\n'.format(len(rois)))\n",
    "        # then insert into the part table\n",
    "        self.Roi.insert(rois)"
   ]
  },
  {
   "cell_type": "markdown",
   "metadata": {},
   "source": [
    "The implementation of the segmentation is pretty much what we had above, except that we now fetch the value of `threshold` and `size_cutoff` from the `SegmentationParam` table.\n",
    "\n",
    "**Important note: always insert into the master table first and then insert the corresponding entries in the part table.** If a master table entry does not exist, its corresponding entries would not be valid."
   ]
  },
  {
   "cell_type": "markdown",
   "metadata": {},
   "source": [
    "Looking at the `Segmentation` table, we see that it indeed inherits the primary key attributes from **both AverageFrame (`mouse_id`, `session_date`, `scan_idx`) and SegmentationParam (`seg_param_id`)**."
   ]
  },
  {
   "cell_type": "code",
   "execution_count": 29,
   "metadata": {},
   "outputs": [
    {
     "data": {
      "text/html": [
       "\n",
       "        \n",
       "        <style type=\"text/css\">\n",
       "            .Relation{\n",
       "                border-collapse:collapse;\n",
       "            }\n",
       "            .Relation th{\n",
       "                background: #A0A0A0; color: #ffffff; padding:4px; border:#f0e0e0 1px solid;\n",
       "                font-weight: normal; font-family: monospace; font-size: 100%;\n",
       "            }\n",
       "            .Relation td{\n",
       "                padding:4px; border:#f0e0e0 1px solid; font-size:100%;\n",
       "            }\n",
       "            .Relation tr:nth-child(odd){\n",
       "                background: #ffffff;\n",
       "            }\n",
       "            .Relation tr:nth-child(even){\n",
       "                background: #f3f1ff;\n",
       "            }\n",
       "            /* Tooltip container */\n",
       "            .djtooltip {\n",
       "            }\n",
       "            /* Tooltip text */\n",
       "            .djtooltip .djtooltiptext {\n",
       "                visibility: hidden;\n",
       "                width: 120px;\n",
       "                background-color: black;\n",
       "                color: #fff;\n",
       "                text-align: center;\n",
       "                padding: 5px 0;\n",
       "                border-radius: 6px;\n",
       "                /* Position the tooltip text - see examples below! */\n",
       "                position: absolute;\n",
       "                z-index: 1;\n",
       "            }\n",
       "            #primary {\n",
       "                font-weight: bold;\n",
       "                color: black;\n",
       "            }\n",
       "\n",
       "            #nonprimary {\n",
       "                font-weight: normal;\n",
       "                color: white;\n",
       "            }\n",
       "\n",
       "            /* Show the tooltip text when you mouse over the tooltip container */\n",
       "            .djtooltip:hover .djtooltiptext {\n",
       "                visibility: visible;\n",
       "            }\n",
       "        </style>\n",
       "        \n",
       "        <b></b>\n",
       "            <div style=\"max-height:1000px;max-width:1500px;overflow:auto;\">\n",
       "            <table border=\"1\" class=\"Relation\">\n",
       "                <thead> <tr style=\"text-align: right;\"> <th> <div class=\"djtooltip\">\n",
       "                                <p id=\"primary\">mouse_id</p>\n",
       "                                <span class=\"djtooltiptext\">Unique animal ID</span>\n",
       "                            </div></th><th><div class=\"djtooltip\">\n",
       "                                <p id=\"primary\">session_date</p>\n",
       "                                <span class=\"djtooltiptext\">date</span>\n",
       "                            </div></th><th><div class=\"djtooltip\">\n",
       "                                <p id=\"primary\">scan_idx</p>\n",
       "                                <span class=\"djtooltiptext\">scan index</span>\n",
       "                            </div></th><th><div class=\"djtooltip\">\n",
       "                                <p id=\"primary\">seg_param_id</p>\n",
       "                                <span class=\"djtooltiptext\">unique id for cell segmentation parameter set</span>\n",
       "                            </div></th><th><div class=\"djtooltip\">\n",
       "                                <p id=\"nonprimary\">segmented_masks</p>\n",
       "                                <span class=\"djtooltiptext\">overview of segmented masks</span>\n",
       "                            </div> </th> </tr> </thead>\n",
       "                <tbody> <tr>  </tr> </tbody>\n",
       "            </table>\n",
       "            \n",
       "            <p>Total: 0</p></div>\n",
       "            "
      ],
      "text/plain": [
       "*mouse_id    *session_date  *scan_idx    *seg_param_id  segmented_\n",
       "+----------+ +------------+ +----------+ +------------+ +--------+\n",
       "\n",
       " (Total: 0)"
      ]
     },
     "execution_count": 29,
     "metadata": {},
     "output_type": "execute_result"
    }
   ],
   "source": [
    "Segmentation()"
   ]
  },
  {
   "cell_type": "markdown",
   "metadata": {},
   "source": [
    "And for the part table `Segmenation.Roi`, there was an additional primary key attribute `roi_idx`:`"
   ]
  },
  {
   "cell_type": "code",
   "execution_count": 30,
   "metadata": {},
   "outputs": [
    {
     "data": {
      "text/html": [
       "\n",
       "        \n",
       "        <style type=\"text/css\">\n",
       "            .Relation{\n",
       "                border-collapse:collapse;\n",
       "            }\n",
       "            .Relation th{\n",
       "                background: #A0A0A0; color: #ffffff; padding:4px; border:#f0e0e0 1px solid;\n",
       "                font-weight: normal; font-family: monospace; font-size: 100%;\n",
       "            }\n",
       "            .Relation td{\n",
       "                padding:4px; border:#f0e0e0 1px solid; font-size:100%;\n",
       "            }\n",
       "            .Relation tr:nth-child(odd){\n",
       "                background: #ffffff;\n",
       "            }\n",
       "            .Relation tr:nth-child(even){\n",
       "                background: #f3f1ff;\n",
       "            }\n",
       "            /* Tooltip container */\n",
       "            .djtooltip {\n",
       "            }\n",
       "            /* Tooltip text */\n",
       "            .djtooltip .djtooltiptext {\n",
       "                visibility: hidden;\n",
       "                width: 120px;\n",
       "                background-color: black;\n",
       "                color: #fff;\n",
       "                text-align: center;\n",
       "                padding: 5px 0;\n",
       "                border-radius: 6px;\n",
       "                /* Position the tooltip text - see examples below! */\n",
       "                position: absolute;\n",
       "                z-index: 1;\n",
       "            }\n",
       "            #primary {\n",
       "                font-weight: bold;\n",
       "                color: black;\n",
       "            }\n",
       "\n",
       "            #nonprimary {\n",
       "                font-weight: normal;\n",
       "                color: white;\n",
       "            }\n",
       "\n",
       "            /* Show the tooltip text when you mouse over the tooltip container */\n",
       "            .djtooltip:hover .djtooltiptext {\n",
       "                visibility: visible;\n",
       "            }\n",
       "        </style>\n",
       "        \n",
       "        <b></b>\n",
       "            <div style=\"max-height:1000px;max-width:1500px;overflow:auto;\">\n",
       "            <table border=\"1\" class=\"Relation\">\n",
       "                <thead> <tr style=\"text-align: right;\"> <th> <div class=\"djtooltip\">\n",
       "                                <p id=\"primary\">mouse_id</p>\n",
       "                                <span class=\"djtooltiptext\">Unique animal ID</span>\n",
       "                            </div></th><th><div class=\"djtooltip\">\n",
       "                                <p id=\"primary\">session_date</p>\n",
       "                                <span class=\"djtooltiptext\">date</span>\n",
       "                            </div></th><th><div class=\"djtooltip\">\n",
       "                                <p id=\"primary\">scan_idx</p>\n",
       "                                <span class=\"djtooltiptext\">scan index</span>\n",
       "                            </div></th><th><div class=\"djtooltip\">\n",
       "                                <p id=\"primary\">seg_param_id</p>\n",
       "                                <span class=\"djtooltiptext\">unique id for cell segmentation parameter set</span>\n",
       "                            </div></th><th><div class=\"djtooltip\">\n",
       "                                <p id=\"primary\">roi_idx</p>\n",
       "                                <span class=\"djtooltiptext\">index of an roi</span>\n",
       "                            </div></th><th><div class=\"djtooltip\">\n",
       "                                <p id=\"nonprimary\">mask</p>\n",
       "                                <span class=\"djtooltiptext\">mask of this roi</span>\n",
       "                            </div> </th> </tr> </thead>\n",
       "                <tbody> <tr>  </tr> </tbody>\n",
       "            </table>\n",
       "            \n",
       "            <p>Total: 0</p></div>\n",
       "            "
      ],
      "text/plain": [
       "*mouse_id    *session_date  *scan_idx    *seg_param_id  *roi_idx    mask      \n",
       "+----------+ +------------+ +----------+ +------------+ +---------+ +--------+\n",
       "\n",
       " (Total: 0)"
      ]
     },
     "execution_count": 30,
     "metadata": {},
     "output_type": "execute_result"
    }
   ],
   "source": [
    "Segmentation.Roi()"
   ]
  },
  {
   "cell_type": "markdown",
   "metadata": {},
   "source": [
    "### Populating `Segmentation` table"
   ]
  },
  {
   "cell_type": "markdown",
   "metadata": {},
   "source": [
    "We are now ready to populate! When we call `populate` on `Segmentation`, DataJoint will automatically call `make` on **every valid combination of the parent tables - AverageFrame and SegmentationParam**."
   ]
  },
  {
   "cell_type": "code",
   "execution_count": 31,
   "metadata": {},
   "outputs": [],
   "source": [
    "# ENTER YOUR CODE! - populate the Segmentation table\n",
    "Segmentation.populate()"
   ]
  },
  {
   "cell_type": "markdown",
   "metadata": {},
   "source": [
    "Hm... `populate` doesn't seem to be doing anything... What could be the cause?"
   ]
  },
  {
   "cell_type": "markdown",
   "metadata": {},
   "source": [
    "Looking at `SegmentationParam` reveals the issue:"
   ]
  },
  {
   "cell_type": "code",
   "execution_count": 32,
   "metadata": {},
   "outputs": [
    {
     "data": {
      "text/html": [
       "\n",
       "        \n",
       "        <style type=\"text/css\">\n",
       "            .Relation{\n",
       "                border-collapse:collapse;\n",
       "            }\n",
       "            .Relation th{\n",
       "                background: #A0A0A0; color: #ffffff; padding:4px; border:#f0e0e0 1px solid;\n",
       "                font-weight: normal; font-family: monospace; font-size: 100%;\n",
       "            }\n",
       "            .Relation td{\n",
       "                padding:4px; border:#f0e0e0 1px solid; font-size:100%;\n",
       "            }\n",
       "            .Relation tr:nth-child(odd){\n",
       "                background: #ffffff;\n",
       "            }\n",
       "            .Relation tr:nth-child(even){\n",
       "                background: #f3f1ff;\n",
       "            }\n",
       "            /* Tooltip container */\n",
       "            .djtooltip {\n",
       "            }\n",
       "            /* Tooltip text */\n",
       "            .djtooltip .djtooltiptext {\n",
       "                visibility: hidden;\n",
       "                width: 120px;\n",
       "                background-color: black;\n",
       "                color: #fff;\n",
       "                text-align: center;\n",
       "                padding: 5px 0;\n",
       "                border-radius: 6px;\n",
       "                /* Position the tooltip text - see examples below! */\n",
       "                position: absolute;\n",
       "                z-index: 1;\n",
       "            }\n",
       "            #primary {\n",
       "                font-weight: bold;\n",
       "                color: black;\n",
       "            }\n",
       "\n",
       "            #nonprimary {\n",
       "                font-weight: normal;\n",
       "                color: white;\n",
       "            }\n",
       "\n",
       "            /* Show the tooltip text when you mouse over the tooltip container */\n",
       "            .djtooltip:hover .djtooltiptext {\n",
       "                visibility: visible;\n",
       "            }\n",
       "        </style>\n",
       "        \n",
       "        <b></b>\n",
       "            <div style=\"max-height:1000px;max-width:1500px;overflow:auto;\">\n",
       "            <table border=\"1\" class=\"Relation\">\n",
       "                <thead> <tr style=\"text-align: right;\"> <th> <div class=\"djtooltip\">\n",
       "                                <p id=\"primary\">seg_param_id</p>\n",
       "                                <span class=\"djtooltiptext\">unique id for cell segmentation parameter set</span>\n",
       "                            </div></th><th><div class=\"djtooltip\">\n",
       "                                <p id=\"nonprimary\">threshold</p>\n",
       "                                <span class=\"djtooltiptext\"></span>\n",
       "                            </div></th><th><div class=\"djtooltip\">\n",
       "                                <p id=\"nonprimary\">size_cutoff</p>\n",
       "                                <span class=\"djtooltiptext\"></span>\n",
       "                            </div> </th> </tr> </thead>\n",
       "                <tbody> <tr>  </tr> </tbody>\n",
       "            </table>\n",
       "            \n",
       "            <p>Total: 0</p></div>\n",
       "            "
      ],
      "text/plain": [
       "*seg_param_id  threshold     size_cutoff   \n",
       "+------------+ +-----------+ +------------+\n",
       "\n",
       " (Total: 0)"
      ]
     },
     "execution_count": 32,
     "metadata": {},
     "output_type": "execute_result"
    }
   ],
   "source": [
    "SegmentationParam()"
   ]
  },
  {
   "cell_type": "markdown",
   "metadata": {},
   "source": [
    "That's right! We have not added a parameter set yet. Let's go ahead and add one."
   ]
  },
  {
   "cell_type": "code",
   "execution_count": 33,
   "metadata": {},
   "outputs": [],
   "source": [
    "SegmentationParam.insert1((0, 50, 50))"
   ]
  },
  {
   "cell_type": "code",
   "execution_count": 35,
   "metadata": {},
   "outputs": [
    {
     "data": {
      "text/html": [
       "\n",
       "        \n",
       "        <style type=\"text/css\">\n",
       "            .Relation{\n",
       "                border-collapse:collapse;\n",
       "            }\n",
       "            .Relation th{\n",
       "                background: #A0A0A0; color: #ffffff; padding:4px; border:#f0e0e0 1px solid;\n",
       "                font-weight: normal; font-family: monospace; font-size: 100%;\n",
       "            }\n",
       "            .Relation td{\n",
       "                padding:4px; border:#f0e0e0 1px solid; font-size:100%;\n",
       "            }\n",
       "            .Relation tr:nth-child(odd){\n",
       "                background: #ffffff;\n",
       "            }\n",
       "            .Relation tr:nth-child(even){\n",
       "                background: #f3f1ff;\n",
       "            }\n",
       "            /* Tooltip container */\n",
       "            .djtooltip {\n",
       "            }\n",
       "            /* Tooltip text */\n",
       "            .djtooltip .djtooltiptext {\n",
       "                visibility: hidden;\n",
       "                width: 120px;\n",
       "                background-color: black;\n",
       "                color: #fff;\n",
       "                text-align: center;\n",
       "                padding: 5px 0;\n",
       "                border-radius: 6px;\n",
       "                /* Position the tooltip text - see examples below! */\n",
       "                position: absolute;\n",
       "                z-index: 1;\n",
       "            }\n",
       "            #primary {\n",
       "                font-weight: bold;\n",
       "                color: black;\n",
       "            }\n",
       "\n",
       "            #nonprimary {\n",
       "                font-weight: normal;\n",
       "                color: white;\n",
       "            }\n",
       "\n",
       "            /* Show the tooltip text when you mouse over the tooltip container */\n",
       "            .djtooltip:hover .djtooltiptext {\n",
       "                visibility: visible;\n",
       "            }\n",
       "        </style>\n",
       "        \n",
       "        <b></b>\n",
       "            <div style=\"max-height:1000px;max-width:1500px;overflow:auto;\">\n",
       "            <table border=\"1\" class=\"Relation\">\n",
       "                <thead> <tr style=\"text-align: right;\"> <th> <div class=\"djtooltip\">\n",
       "                                <p id=\"primary\">seg_param_id</p>\n",
       "                                <span class=\"djtooltiptext\">unique id for cell segmentation parameter set</span>\n",
       "                            </div></th><th><div class=\"djtooltip\">\n",
       "                                <p id=\"nonprimary\">threshold</p>\n",
       "                                <span class=\"djtooltiptext\"></span>\n",
       "                            </div></th><th><div class=\"djtooltip\">\n",
       "                                <p id=\"nonprimary\">size_cutoff</p>\n",
       "                                <span class=\"djtooltiptext\"></span>\n",
       "                            </div> </th> </tr> </thead>\n",
       "                <tbody> <tr> <td>0</td>\n",
       "<td>50.0</td>\n",
       "<td>50.0</td> </tr> </tbody>\n",
       "            </table>\n",
       "            \n",
       "            <p>Total: 1</p></div>\n",
       "            "
      ],
      "text/plain": [
       "*seg_param_id  threshold     size_cutoff   \n",
       "+------------+ +-----------+ +------------+\n",
       "0              50.0          50.0          \n",
       " (Total: 1)"
      ]
     },
     "execution_count": 35,
     "metadata": {},
     "output_type": "execute_result"
    }
   ],
   "source": [
    "SegmentationParam()"
   ]
  },
  {
   "cell_type": "markdown",
   "metadata": {},
   "source": [
    "Now we should really be ready to perform the computation..."
   ]
  },
  {
   "cell_type": "code",
   "execution_count": 36,
   "metadata": {},
   "outputs": [
    {
     "name": "stdout",
     "output_type": "stream",
     "text": [
      "Populating for:  {'mouse_id': 0, 'session_date': datetime.date(2017, 5, 15), 'scan_idx': 1, 'seg_param_id': 0}\n",
      "Detected 6 ROIs!\n",
      "\n",
      "Populating for:  {'mouse_id': 0, 'session_date': datetime.date(2017, 5, 15), 'scan_idx': 2, 'seg_param_id': 0}\n",
      "Detected 6 ROIs!\n",
      "\n",
      "Populating for:  {'mouse_id': 100, 'session_date': datetime.date(2017, 5, 25), 'scan_idx': 1, 'seg_param_id': 0}\n",
      "Detected 9 ROIs!\n",
      "\n"
     ]
    }
   ],
   "source": [
    "# ENTER YOUR CODE! - populate the Segmenation table for real!\n",
    "Segmentation.populate()"
   ]
  },
  {
   "cell_type": "code",
   "execution_count": 37,
   "metadata": {},
   "outputs": [
    {
     "data": {
      "text/html": [
       "\n",
       "        \n",
       "        <style type=\"text/css\">\n",
       "            .Relation{\n",
       "                border-collapse:collapse;\n",
       "            }\n",
       "            .Relation th{\n",
       "                background: #A0A0A0; color: #ffffff; padding:4px; border:#f0e0e0 1px solid;\n",
       "                font-weight: normal; font-family: monospace; font-size: 100%;\n",
       "            }\n",
       "            .Relation td{\n",
       "                padding:4px; border:#f0e0e0 1px solid; font-size:100%;\n",
       "            }\n",
       "            .Relation tr:nth-child(odd){\n",
       "                background: #ffffff;\n",
       "            }\n",
       "            .Relation tr:nth-child(even){\n",
       "                background: #f3f1ff;\n",
       "            }\n",
       "            /* Tooltip container */\n",
       "            .djtooltip {\n",
       "            }\n",
       "            /* Tooltip text */\n",
       "            .djtooltip .djtooltiptext {\n",
       "                visibility: hidden;\n",
       "                width: 120px;\n",
       "                background-color: black;\n",
       "                color: #fff;\n",
       "                text-align: center;\n",
       "                padding: 5px 0;\n",
       "                border-radius: 6px;\n",
       "                /* Position the tooltip text - see examples below! */\n",
       "                position: absolute;\n",
       "                z-index: 1;\n",
       "            }\n",
       "            #primary {\n",
       "                font-weight: bold;\n",
       "                color: black;\n",
       "            }\n",
       "\n",
       "            #nonprimary {\n",
       "                font-weight: normal;\n",
       "                color: white;\n",
       "            }\n",
       "\n",
       "            /* Show the tooltip text when you mouse over the tooltip container */\n",
       "            .djtooltip:hover .djtooltiptext {\n",
       "                visibility: visible;\n",
       "            }\n",
       "        </style>\n",
       "        \n",
       "        <b></b>\n",
       "            <div style=\"max-height:1000px;max-width:1500px;overflow:auto;\">\n",
       "            <table border=\"1\" class=\"Relation\">\n",
       "                <thead> <tr style=\"text-align: right;\"> <th> <div class=\"djtooltip\">\n",
       "                                <p id=\"primary\">mouse_id</p>\n",
       "                                <span class=\"djtooltiptext\">Unique animal ID</span>\n",
       "                            </div></th><th><div class=\"djtooltip\">\n",
       "                                <p id=\"primary\">session_date</p>\n",
       "                                <span class=\"djtooltiptext\">date</span>\n",
       "                            </div></th><th><div class=\"djtooltip\">\n",
       "                                <p id=\"primary\">scan_idx</p>\n",
       "                                <span class=\"djtooltiptext\">scan index</span>\n",
       "                            </div></th><th><div class=\"djtooltip\">\n",
       "                                <p id=\"primary\">seg_param_id</p>\n",
       "                                <span class=\"djtooltiptext\">unique id for cell segmentation parameter set</span>\n",
       "                            </div></th><th><div class=\"djtooltip\">\n",
       "                                <p id=\"nonprimary\">segmented_masks</p>\n",
       "                                <span class=\"djtooltiptext\">overview of segmented masks</span>\n",
       "                            </div> </th> </tr> </thead>\n",
       "                <tbody> <tr> <td>0</td>\n",
       "<td>2017-05-15</td>\n",
       "<td>1</td>\n",
       "<td>0</td>\n",
       "<td>=BLOB=</td></tr><tr><td>0</td>\n",
       "<td>2017-05-15</td>\n",
       "<td>2</td>\n",
       "<td>0</td>\n",
       "<td>=BLOB=</td></tr><tr><td>100</td>\n",
       "<td>2017-05-25</td>\n",
       "<td>1</td>\n",
       "<td>0</td>\n",
       "<td>=BLOB=</td> </tr> </tbody>\n",
       "            </table>\n",
       "            \n",
       "            <p>Total: 3</p></div>\n",
       "            "
      ],
      "text/plain": [
       "*mouse_id    *session_date  *scan_idx    *seg_param_id  segmented_\n",
       "+----------+ +------------+ +----------+ +------------+ +--------+\n",
       "0            2017-05-15     1            0              =BLOB=    \n",
       "0            2017-05-15     2            0              =BLOB=    \n",
       "100          2017-05-25     1            0              =BLOB=    \n",
       " (Total: 3)"
      ]
     },
     "execution_count": 37,
     "metadata": {},
     "output_type": "execute_result"
    }
   ],
   "source": [
    "Segmentation()"
   ]
  },
  {
   "cell_type": "markdown",
   "metadata": {},
   "source": [
    "...and we now have spike detection running!"
   ]
  },
  {
   "cell_type": "markdown",
   "metadata": {},
   "source": [
    "### Trying out other parameter values"
   ]
  },
  {
   "cell_type": "markdown",
   "metadata": {},
   "source": [
    "Let's see how different thresholds affect the results."
   ]
  },
  {
   "cell_type": "code",
   "execution_count": 38,
   "metadata": {},
   "outputs": [],
   "source": [
    "SegmentationParam.insert1((1, 60, 50))  # add another threshold and size cutoff"
   ]
  },
  {
   "cell_type": "code",
   "execution_count": 39,
   "metadata": {},
   "outputs": [
    {
     "data": {
      "text/html": [
       "\n",
       "        \n",
       "        <style type=\"text/css\">\n",
       "            .Relation{\n",
       "                border-collapse:collapse;\n",
       "            }\n",
       "            .Relation th{\n",
       "                background: #A0A0A0; color: #ffffff; padding:4px; border:#f0e0e0 1px solid;\n",
       "                font-weight: normal; font-family: monospace; font-size: 100%;\n",
       "            }\n",
       "            .Relation td{\n",
       "                padding:4px; border:#f0e0e0 1px solid; font-size:100%;\n",
       "            }\n",
       "            .Relation tr:nth-child(odd){\n",
       "                background: #ffffff;\n",
       "            }\n",
       "            .Relation tr:nth-child(even){\n",
       "                background: #f3f1ff;\n",
       "            }\n",
       "            /* Tooltip container */\n",
       "            .djtooltip {\n",
       "            }\n",
       "            /* Tooltip text */\n",
       "            .djtooltip .djtooltiptext {\n",
       "                visibility: hidden;\n",
       "                width: 120px;\n",
       "                background-color: black;\n",
       "                color: #fff;\n",
       "                text-align: center;\n",
       "                padding: 5px 0;\n",
       "                border-radius: 6px;\n",
       "                /* Position the tooltip text - see examples below! */\n",
       "                position: absolute;\n",
       "                z-index: 1;\n",
       "            }\n",
       "            #primary {\n",
       "                font-weight: bold;\n",
       "                color: black;\n",
       "            }\n",
       "\n",
       "            #nonprimary {\n",
       "                font-weight: normal;\n",
       "                color: white;\n",
       "            }\n",
       "\n",
       "            /* Show the tooltip text when you mouse over the tooltip container */\n",
       "            .djtooltip:hover .djtooltiptext {\n",
       "                visibility: visible;\n",
       "            }\n",
       "        </style>\n",
       "        \n",
       "        <b></b>\n",
       "            <div style=\"max-height:1000px;max-width:1500px;overflow:auto;\">\n",
       "            <table border=\"1\" class=\"Relation\">\n",
       "                <thead> <tr style=\"text-align: right;\"> <th> <div class=\"djtooltip\">\n",
       "                                <p id=\"primary\">seg_param_id</p>\n",
       "                                <span class=\"djtooltiptext\">unique id for cell segmentation parameter set</span>\n",
       "                            </div></th><th><div class=\"djtooltip\">\n",
       "                                <p id=\"nonprimary\">threshold</p>\n",
       "                                <span class=\"djtooltiptext\"></span>\n",
       "                            </div></th><th><div class=\"djtooltip\">\n",
       "                                <p id=\"nonprimary\">size_cutoff</p>\n",
       "                                <span class=\"djtooltiptext\"></span>\n",
       "                            </div> </th> </tr> </thead>\n",
       "                <tbody> <tr> <td>0</td>\n",
       "<td>50.0</td>\n",
       "<td>50.0</td></tr><tr><td>1</td>\n",
       "<td>60.0</td>\n",
       "<td>50.0</td> </tr> </tbody>\n",
       "            </table>\n",
       "            \n",
       "            <p>Total: 2</p></div>\n",
       "            "
      ],
      "text/plain": [
       "*seg_param_id  threshold     size_cutoff   \n",
       "+------------+ +-----------+ +------------+\n",
       "0              50.0          50.0          \n",
       "1              60.0          50.0          \n",
       " (Total: 2)"
      ]
     },
     "execution_count": 39,
     "metadata": {},
     "output_type": "execute_result"
    }
   ],
   "source": [
    "SegmentationParam()"
   ]
  },
  {
   "cell_type": "code",
   "execution_count": 40,
   "metadata": {},
   "outputs": [
    {
     "name": "stdout",
     "output_type": "stream",
     "text": [
      "Populating for:  {'mouse_id': 0, 'session_date': datetime.date(2017, 5, 15), 'scan_idx': 1, 'seg_param_id': 1}\n",
      "Detected 3 ROIs!\n",
      "\n",
      "Populating for:  {'mouse_id': 0, 'session_date': datetime.date(2017, 5, 15), 'scan_idx': 2, 'seg_param_id': 1}\n",
      "Detected 2 ROIs!\n",
      "\n",
      "Populating for:  {'mouse_id': 100, 'session_date': datetime.date(2017, 5, 25), 'scan_idx': 1, 'seg_param_id': 1}\n",
      "Detected 3 ROIs!\n",
      "\n"
     ]
    }
   ],
   "source": [
    "# ENTER YOUR CODE! - populate the \"missing\" entry in Segmentation table\n",
    "Segmentation.populate()"
   ]
  },
  {
   "cell_type": "code",
   "execution_count": 43,
   "metadata": {},
   "outputs": [
    {
     "data": {
      "text/html": [
       "\n",
       "        \n",
       "        <style type=\"text/css\">\n",
       "            .Relation{\n",
       "                border-collapse:collapse;\n",
       "            }\n",
       "            .Relation th{\n",
       "                background: #A0A0A0; color: #ffffff; padding:4px; border:#f0e0e0 1px solid;\n",
       "                font-weight: normal; font-family: monospace; font-size: 100%;\n",
       "            }\n",
       "            .Relation td{\n",
       "                padding:4px; border:#f0e0e0 1px solid; font-size:100%;\n",
       "            }\n",
       "            .Relation tr:nth-child(odd){\n",
       "                background: #ffffff;\n",
       "            }\n",
       "            .Relation tr:nth-child(even){\n",
       "                background: #f3f1ff;\n",
       "            }\n",
       "            /* Tooltip container */\n",
       "            .djtooltip {\n",
       "            }\n",
       "            /* Tooltip text */\n",
       "            .djtooltip .djtooltiptext {\n",
       "                visibility: hidden;\n",
       "                width: 120px;\n",
       "                background-color: black;\n",
       "                color: #fff;\n",
       "                text-align: center;\n",
       "                padding: 5px 0;\n",
       "                border-radius: 6px;\n",
       "                /* Position the tooltip text - see examples below! */\n",
       "                position: absolute;\n",
       "                z-index: 1;\n",
       "            }\n",
       "            #primary {\n",
       "                font-weight: bold;\n",
       "                color: black;\n",
       "            }\n",
       "\n",
       "            #nonprimary {\n",
       "                font-weight: normal;\n",
       "                color: white;\n",
       "            }\n",
       "\n",
       "            /* Show the tooltip text when you mouse over the tooltip container */\n",
       "            .djtooltip:hover .djtooltiptext {\n",
       "                visibility: visible;\n",
       "            }\n",
       "        </style>\n",
       "        \n",
       "        <b></b>\n",
       "            <div style=\"max-height:1000px;max-width:1500px;overflow:auto;\">\n",
       "            <table border=\"1\" class=\"Relation\">\n",
       "                <thead> <tr style=\"text-align: right;\"> <th> <div class=\"djtooltip\">\n",
       "                                <p id=\"primary\">mouse_id</p>\n",
       "                                <span class=\"djtooltiptext\">Unique animal ID</span>\n",
       "                            </div></th><th><div class=\"djtooltip\">\n",
       "                                <p id=\"primary\">session_date</p>\n",
       "                                <span class=\"djtooltiptext\">date</span>\n",
       "                            </div></th><th><div class=\"djtooltip\">\n",
       "                                <p id=\"primary\">scan_idx</p>\n",
       "                                <span class=\"djtooltiptext\">scan index</span>\n",
       "                            </div></th><th><div class=\"djtooltip\">\n",
       "                                <p id=\"primary\">seg_param_id</p>\n",
       "                                <span class=\"djtooltiptext\">unique id for cell segmentation parameter set</span>\n",
       "                            </div></th><th><div class=\"djtooltip\">\n",
       "                                <p id=\"nonprimary\">segmented_masks</p>\n",
       "                                <span class=\"djtooltiptext\">overview of segmented masks</span>\n",
       "                            </div> </th> </tr> </thead>\n",
       "                <tbody> <tr> <td>0</td>\n",
       "<td>2017-05-15</td>\n",
       "<td>1</td>\n",
       "<td>0</td>\n",
       "<td>=BLOB=</td></tr><tr><td>0</td>\n",
       "<td>2017-05-15</td>\n",
       "<td>2</td>\n",
       "<td>0</td>\n",
       "<td>=BLOB=</td></tr><tr><td>100</td>\n",
       "<td>2017-05-25</td>\n",
       "<td>1</td>\n",
       "<td>0</td>\n",
       "<td>=BLOB=</td></tr><tr><td>0</td>\n",
       "<td>2017-05-15</td>\n",
       "<td>1</td>\n",
       "<td>1</td>\n",
       "<td>=BLOB=</td></tr><tr><td>0</td>\n",
       "<td>2017-05-15</td>\n",
       "<td>2</td>\n",
       "<td>1</td>\n",
       "<td>=BLOB=</td></tr><tr><td>100</td>\n",
       "<td>2017-05-25</td>\n",
       "<td>1</td>\n",
       "<td>1</td>\n",
       "<td>=BLOB=</td> </tr> </tbody>\n",
       "            </table>\n",
       "            \n",
       "            <p>Total: 6</p></div>\n",
       "            "
      ],
      "text/plain": [
       "*mouse_id    *session_date  *scan_idx    *seg_param_id  segmented_\n",
       "+----------+ +------------+ +----------+ +------------+ +--------+\n",
       "0            2017-05-15     1            0              =BLOB=    \n",
       "0            2017-05-15     2            0              =BLOB=    \n",
       "100          2017-05-25     1            0              =BLOB=    \n",
       "0            2017-05-15     1            1              =BLOB=    \n",
       "0            2017-05-15     2            1              =BLOB=    \n",
       "100          2017-05-25     1            1              =BLOB=    \n",
       " (Total: 6)"
      ]
     },
     "execution_count": 43,
     "metadata": {},
     "output_type": "execute_result"
    }
   ],
   "source": [
    "Segmentation()"
   ]
  },
  {
   "cell_type": "markdown",
   "metadata": {},
   "source": [
    "You can see that the results of segmentation under different parameter settings can live happily next to each other, without any confusion as to what is what."
   ]
  },
  {
   "cell_type": "markdown",
   "metadata": {},
   "source": [
    "## Deleting entries from \"upstream\""
   ]
  },
  {
   "cell_type": "markdown",
   "metadata": {},
   "source": [
    "Now let's say that we decided that we don't like the first threshold of `50`. While there is really nothing wrong keeping those results around, you might decide that you'd rather delete all computations performed with that threshold to keep your tables clean."
   ]
  },
  {
   "cell_type": "markdown",
   "metadata": {},
   "source": [
    "While you can restrict `Segmentation` table to the specific parameter id (i.e. `seg_param_id = 0`) and delete the entries:"
   ]
  },
  {
   "cell_type": "code",
   "execution_count": 42,
   "metadata": {},
   "outputs": [
    {
     "name": "stdout",
     "output_type": "stream",
     "text": [
      "About to delete:\n",
      "`shan_tutorial_pipeline`.`__segmentation__roi`: 21 items\n",
      "`shan_tutorial_pipeline`.`__segmentation`: 3 items\n",
      "Proceed? [yes, No]: No\n",
      "Cancelled deletes.\n"
     ]
    }
   ],
   "source": [
    "# Select 'No' when it pops up\n",
    "(Segmentation & 'seg_param_id = 0').delete()"
   ]
  },
  {
   "cell_type": "markdown",
   "metadata": {},
   "source": [
    "We can simply delete the unwanted paramter from the `SegmentationParam` table, and let DataJoint cascade the deletion:"
   ]
  },
  {
   "cell_type": "code",
   "execution_count": 44,
   "metadata": {},
   "outputs": [
    {
     "data": {
      "text/html": [
       "\n",
       "        \n",
       "        <style type=\"text/css\">\n",
       "            .Relation{\n",
       "                border-collapse:collapse;\n",
       "            }\n",
       "            .Relation th{\n",
       "                background: #A0A0A0; color: #ffffff; padding:4px; border:#f0e0e0 1px solid;\n",
       "                font-weight: normal; font-family: monospace; font-size: 100%;\n",
       "            }\n",
       "            .Relation td{\n",
       "                padding:4px; border:#f0e0e0 1px solid; font-size:100%;\n",
       "            }\n",
       "            .Relation tr:nth-child(odd){\n",
       "                background: #ffffff;\n",
       "            }\n",
       "            .Relation tr:nth-child(even){\n",
       "                background: #f3f1ff;\n",
       "            }\n",
       "            /* Tooltip container */\n",
       "            .djtooltip {\n",
       "            }\n",
       "            /* Tooltip text */\n",
       "            .djtooltip .djtooltiptext {\n",
       "                visibility: hidden;\n",
       "                width: 120px;\n",
       "                background-color: black;\n",
       "                color: #fff;\n",
       "                text-align: center;\n",
       "                padding: 5px 0;\n",
       "                border-radius: 6px;\n",
       "                /* Position the tooltip text - see examples below! */\n",
       "                position: absolute;\n",
       "                z-index: 1;\n",
       "            }\n",
       "            #primary {\n",
       "                font-weight: bold;\n",
       "                color: black;\n",
       "            }\n",
       "\n",
       "            #nonprimary {\n",
       "                font-weight: normal;\n",
       "                color: white;\n",
       "            }\n",
       "\n",
       "            /* Show the tooltip text when you mouse over the tooltip container */\n",
       "            .djtooltip:hover .djtooltiptext {\n",
       "                visibility: visible;\n",
       "            }\n",
       "        </style>\n",
       "        \n",
       "        <b></b>\n",
       "            <div style=\"max-height:1000px;max-width:1500px;overflow:auto;\">\n",
       "            <table border=\"1\" class=\"Relation\">\n",
       "                <thead> <tr style=\"text-align: right;\"> <th> <div class=\"djtooltip\">\n",
       "                                <p id=\"primary\">seg_param_id</p>\n",
       "                                <span class=\"djtooltiptext\">unique id for cell segmentation parameter set</span>\n",
       "                            </div></th><th><div class=\"djtooltip\">\n",
       "                                <p id=\"nonprimary\">threshold</p>\n",
       "                                <span class=\"djtooltiptext\"></span>\n",
       "                            </div></th><th><div class=\"djtooltip\">\n",
       "                                <p id=\"nonprimary\">size_cutoff</p>\n",
       "                                <span class=\"djtooltiptext\"></span>\n",
       "                            </div> </th> </tr> </thead>\n",
       "                <tbody> <tr> <td>0</td>\n",
       "<td>50.0</td>\n",
       "<td>50.0</td> </tr> </tbody>\n",
       "            </table>\n",
       "            \n",
       "            <p>Total: 1</p></div>\n",
       "            "
      ],
      "text/plain": [
       "*seg_param_id  threshold     size_cutoff   \n",
       "+------------+ +-----------+ +------------+\n",
       "0              50.0          50.0          \n",
       " (Total: 1)"
      ]
     },
     "execution_count": 44,
     "metadata": {},
     "output_type": "execute_result"
    }
   ],
   "source": [
    "SegmentationParam & 'seg_param_id = 0'"
   ]
  },
  {
   "cell_type": "code",
   "execution_count": 45,
   "metadata": {},
   "outputs": [
    {
     "name": "stdout",
     "output_type": "stream",
     "text": [
      "About to delete:\n",
      "`shan_tutorial_pipeline`.`__segmentation__roi`: 21 items\n",
      "`shan_tutorial_pipeline`.`__segmentation`: 3 items\n",
      "`shan_tutorial_pipeline`.`#segmentation_param`: 1 items\n",
      "Proceed? [yes, No]: yes\n",
      "Committed.\n"
     ]
    }
   ],
   "source": [
    "(SegmentationParam() & 'seg_param_id = 0').delete()"
   ]
  },
  {
   "cell_type": "code",
   "execution_count": 46,
   "metadata": {},
   "outputs": [
    {
     "data": {
      "text/html": [
       "\n",
       "        \n",
       "        <style type=\"text/css\">\n",
       "            .Relation{\n",
       "                border-collapse:collapse;\n",
       "            }\n",
       "            .Relation th{\n",
       "                background: #A0A0A0; color: #ffffff; padding:4px; border:#f0e0e0 1px solid;\n",
       "                font-weight: normal; font-family: monospace; font-size: 100%;\n",
       "            }\n",
       "            .Relation td{\n",
       "                padding:4px; border:#f0e0e0 1px solid; font-size:100%;\n",
       "            }\n",
       "            .Relation tr:nth-child(odd){\n",
       "                background: #ffffff;\n",
       "            }\n",
       "            .Relation tr:nth-child(even){\n",
       "                background: #f3f1ff;\n",
       "            }\n",
       "            /* Tooltip container */\n",
       "            .djtooltip {\n",
       "            }\n",
       "            /* Tooltip text */\n",
       "            .djtooltip .djtooltiptext {\n",
       "                visibility: hidden;\n",
       "                width: 120px;\n",
       "                background-color: black;\n",
       "                color: #fff;\n",
       "                text-align: center;\n",
       "                padding: 5px 0;\n",
       "                border-radius: 6px;\n",
       "                /* Position the tooltip text - see examples below! */\n",
       "                position: absolute;\n",
       "                z-index: 1;\n",
       "            }\n",
       "            #primary {\n",
       "                font-weight: bold;\n",
       "                color: black;\n",
       "            }\n",
       "\n",
       "            #nonprimary {\n",
       "                font-weight: normal;\n",
       "                color: white;\n",
       "            }\n",
       "\n",
       "            /* Show the tooltip text when you mouse over the tooltip container */\n",
       "            .djtooltip:hover .djtooltiptext {\n",
       "                visibility: visible;\n",
       "            }\n",
       "        </style>\n",
       "        \n",
       "        <b></b>\n",
       "            <div style=\"max-height:1000px;max-width:1500px;overflow:auto;\">\n",
       "            <table border=\"1\" class=\"Relation\">\n",
       "                <thead> <tr style=\"text-align: right;\"> <th> <div class=\"djtooltip\">\n",
       "                                <p id=\"primary\">mouse_id</p>\n",
       "                                <span class=\"djtooltiptext\">Unique animal ID</span>\n",
       "                            </div></th><th><div class=\"djtooltip\">\n",
       "                                <p id=\"primary\">session_date</p>\n",
       "                                <span class=\"djtooltiptext\">date</span>\n",
       "                            </div></th><th><div class=\"djtooltip\">\n",
       "                                <p id=\"primary\">scan_idx</p>\n",
       "                                <span class=\"djtooltiptext\">scan index</span>\n",
       "                            </div></th><th><div class=\"djtooltip\">\n",
       "                                <p id=\"primary\">seg_param_id</p>\n",
       "                                <span class=\"djtooltiptext\">unique id for cell segmentation parameter set</span>\n",
       "                            </div></th><th><div class=\"djtooltip\">\n",
       "                                <p id=\"nonprimary\">segmented_masks</p>\n",
       "                                <span class=\"djtooltiptext\">overview of segmented masks</span>\n",
       "                            </div> </th> </tr> </thead>\n",
       "                <tbody> <tr> <td>0</td>\n",
       "<td>2017-05-15</td>\n",
       "<td>1</td>\n",
       "<td>1</td>\n",
       "<td>=BLOB=</td></tr><tr><td>0</td>\n",
       "<td>2017-05-15</td>\n",
       "<td>2</td>\n",
       "<td>1</td>\n",
       "<td>=BLOB=</td></tr><tr><td>100</td>\n",
       "<td>2017-05-25</td>\n",
       "<td>1</td>\n",
       "<td>1</td>\n",
       "<td>=BLOB=</td> </tr> </tbody>\n",
       "            </table>\n",
       "            \n",
       "            <p>Total: 3</p></div>\n",
       "            "
      ],
      "text/plain": [
       "*mouse_id    *session_date  *scan_idx    *seg_param_id  segmented_\n",
       "+----------+ +------------+ +----------+ +------------+ +--------+\n",
       "0            2017-05-15     1            1              =BLOB=    \n",
       "0            2017-05-15     2            1              =BLOB=    \n",
       "100          2017-05-25     1            1              =BLOB=    \n",
       " (Total: 3)"
      ]
     },
     "execution_count": 46,
     "metadata": {},
     "output_type": "execute_result"
    }
   ],
   "source": [
    "Segmentation()"
   ]
  },
  {
   "cell_type": "markdown",
   "metadata": {},
   "source": [
    "### Visualize ROIs"
   ]
  },
  {
   "cell_type": "markdown",
   "metadata": {},
   "source": [
    "Now we have all ROI masks saved in the table `Segmentation.Roi`, let's quickly look at an example by fetching the `mask` from the table."
   ]
  },
  {
   "cell_type": "code",
   "execution_count": 51,
   "metadata": {},
   "outputs": [
    {
     "data": {
      "text/plain": [
       "<matplotlib.image.AxesImage at 0x1c18d53e48>"
      ]
     },
     "execution_count": 51,
     "metadata": {},
     "output_type": "execute_result"
    },
    {
     "data": {
      "image/png": "[encoded data removed]",
      "text/plain": [
       "<Figure size 432x288 with 1 Axes>"
      ]
     },
     "metadata": {
      "needs_background": "light"
     },
     "output_type": "display_data"
    }
   ],
   "source": [
    "# show one example ROI\n",
    "masks = (Segmentation.Roi).fetch('mask')\n",
    "plt.imshow(masks[2])"
   ]
  },
  {
   "cell_type": "markdown",
   "metadata": {},
   "source": [
    "## Fluorescence trace of each segmented ROI"
   ]
  },
  {
   "cell_type": "markdown",
   "metadata": {},
   "source": [
    "Now we got masks of ROIs in the table `Segmetation.Roi` obtained with different parameter combinations. We would like to extract the fluorescence trace of each segmentation. \n",
    "\n",
    "The table design is similar to the `Segmentation` and `Roi`. The master table `Fluorescence` is the driver for the computation, with a secondary attribute `time` shared across traces of all ROIs. The part table `Trace` saves the extracted trace for each ROI over time (frame). "
   ]
  },
  {
   "cell_type": "code",
   "execution_count": 57,
   "metadata": {},
   "outputs": [],
   "source": [
    "from skimage import io\n",
    "import os\n",
    "@schema\n",
    "class Fluorescence(dj.Imported): # imported table because it also rely on the external tiff file.\n",
    "    definition = \"\"\"\n",
    "    -> Segmentation\n",
    "    ---\n",
    "    time    : longblob    # time for each frame\n",
    "    \"\"\"\n",
    "    \n",
    "    class Trace(dj.Part):\n",
    "        definition = \"\"\"\n",
    "        -> master\n",
    "        -> Segmentation.Roi\n",
    "        ---\n",
    "        trace      :  longblob    # fluorescence trace of each ROI\n",
    "        \"\"\"\n",
    "          \n",
    "    # the master table is mainly to perform the computation, while the part table contains the result\n",
    "    def make(self, key):\n",
    "        \n",
    "        print('Populating: {}'.format(key))\n",
    "        # fetch data directory from table Session\n",
    "        data_path = '../01-Calcium_Imaging/' + (Session & key).fetch1('data_path')\n",
    "        \n",
    "        # fetch data file name from table Scan\n",
    "        file_name = (Scan & key).fetch1('file_name')\n",
    "        \n",
    "        # load the file\n",
    "        im = io.imread(os.path.join(data_path, file_name))\n",
    "        \n",
    "        # get dimensions of the image and reshape\n",
    "        n, w, h = np.shape(im)\n",
    "        im_reshaped = np.reshape(im, [n, w*h])\n",
    "        \n",
    "        # get frames per second to compute time\n",
    "        fps = (Scan & key).fetch1('fps')\n",
    "        \n",
    "        # insert into master table first\n",
    "        self.insert1(dict(**key, time=np.array(range(n))/fps))\n",
    "        \n",
    "        \n",
    "        # extract traces\n",
    "        roi_keys, masks = (Segmentation.Roi & key).fetch('KEY', 'mask')\n",
    "        \n",
    "        traces = []\n",
    "        for roi_key, mask in zip(roi_keys, masks):\n",
    "            \n",
    "            # reshape mask\n",
    "            mask_reshaped = np.reshape(mask, [w*h])\n",
    "            trace = np.mean(im_reshaped[:, mask_reshaped], axis=1)\n",
    "            \n",
    "            traces.append(dict(**roi_key, trace=trace))\n",
    "        \n",
    "        self.Trace.insert(traces)"
   ]
  },
  {
   "cell_type": "code",
   "execution_count": 58,
   "metadata": {},
   "outputs": [
    {
     "name": "stdout",
     "output_type": "stream",
     "text": [
      "Populating: {'mouse_id': 0, 'session_date': datetime.date(2017, 5, 15), 'scan_idx': 1, 'seg_param_id': 1}\n",
      "Populating: {'mouse_id': 0, 'session_date': datetime.date(2017, 5, 15), 'scan_idx': 2, 'seg_param_id': 1}\n",
      "Populating: {'mouse_id': 100, 'session_date': datetime.date(2017, 5, 25), 'scan_idx': 1, 'seg_param_id': 1}\n"
     ]
    }
   ],
   "source": [
    "# ENTER YOUR CODE! - populate the Fluorescence table\n",
    "Fluorescence.populate()"
   ]
  },
  {
   "cell_type": "markdown",
   "metadata": {},
   "source": [
    "Now we could plot the traces of an example scan"
   ]
  },
  {
   "cell_type": "code",
   "execution_count": 61,
   "metadata": {},
   "outputs": [
    {
     "data": {
      "text/plain": [
       "Text(0, 0.5, 'Fluorescence')"
      ]
     },
     "execution_count": 61,
     "metadata": {},
     "output_type": "execute_result"
    },
    {
     "data": {
      "image/png": "[encoded data removed]",
      "text/plain": [
       "<Figure size 432x288 with 1 Axes>"
      ]
     },
     "metadata": {
      "needs_background": "light"
     },
     "output_type": "display_data"
    }
   ],
   "source": [
    "key = dict(mouse_id=0, session_number=1, scan_idx=1, seg_param_id=1)\n",
    "\n",
    "# ENTER YOUR CODE! - fetch 'time' from the Fluorescence table using fetch1()\n",
    "time = (Fluorescence & key).fetch1('time')\n",
    "\n",
    "# ENTER YOUR CODE! - fetch 'trace' from the Fluorescence.Trace table using fetch()\n",
    "traces = (Fluorescence.Trace & key).fetch('trace')\n",
    "\n",
    "plt.plot(time, np.vstack(traces).T)\n",
    "plt.xlabel('Time (s)')\n",
    "plt.ylabel('Fluorescence')"
   ]
  },
  {
   "cell_type": "markdown",
   "metadata": {},
   "source": [
    "## Summary"
   ]
  },
  {
   "cell_type": "markdown",
   "metadata": {},
   "source": [
    "Congratulations! You have successfully extended your pipeline with all types of tables. This pipeline is simple, but reflecting a typical preprocessin pipeline of calcium imaging. We have all the table tiers and major dependencies between DataJoint tables.\n",
    "\n",
    "**Table tiers**:  \n",
    "Manual table: green box  \n",
    "Lookup table: gray box  \n",
    "Imported table: blue oval  \n",
    "Computed table: red circle  \n",
    "Part table: plain text\n",
    "\n",
    "**Dependencies**:  \n",
    "One-to-one primary: thick solid line, share the exact same primary key  \n",
    "One-to-many primary: thin solid line, inherit the primary key from the parent table, but have additional field(s) as part of the primary key as well"
   ]
  },
  {
   "cell_type": "code",
   "execution_count": 62,
   "metadata": {},
   "outputs": [
    {
     "data": {
      "image/svg+xml": "<svg height=\"444pt\" viewBox=\"0.00 0.00 313.07 444.50\" width=\"313pt\" xmlns=\"http://www.w3.org/2000/svg\" xmlns:xlink=\"http://www.w3.org/1999/xlink\">\n<g class=\"graph\" id=\"graph0\" transform=\"scale(1 1) rotate(0) translate(4 440.499)\">\n<title>%3</title>\n<polygon fill=\"#ffffff\" points=\"-4,4 -4,-440.499 309.0708,-440.499 309.0708,4 -4,4\" stroke=\"transparent\"/>\n<!-- Fluorescence.Trace -->\n<g class=\"node\" id=\"node1\">\n<title>Fluorescence.Trace</title>\n<g id=\"a_node1\"><a xlink:title=\"→ Fluorescence\r\n→ Segmentation.Roi\r\n------------------------------\r\ntrace                \r\n\">\n<polygon fill=\"transparent\" points=\"108.2604,-19.7551 4.2644,-19.7551 4.2644,.2561 108.2604,.2561 108.2604,-19.7551\" stroke=\"transparent\"/>\n<text fill=\"#000000\" font-family=\"arial\" font-size=\"10.00\" text-anchor=\"middle\" x=\"56.2624\" y=\"-7.499\">Fluorescence.Trace</text>\n</a>\n</g>\n</g>\n<!-- Fluorescence -->\n<g class=\"node\" id=\"node2\">\n<title>Fluorescence</title>\n<g id=\"a_node2\"><a xlink:title=\"→ Segmentation\r\n------------------------------\r\ntime                 \r\n\">\n<ellipse cx=\"56.2624\" cy=\"-72.999\" fill=\"#00007f\" fill-opacity=\"0.250980\" rx=\"56.0258\" ry=\"17.5\" stroke=\"#00007f\" stroke-opacity=\"0.250980\"/>\n<text fill=\"#00007f\" font-family=\"arial\" font-size=\"12.00\" text-anchor=\"middle\" x=\"56.2624\" y=\"-70.2984\">Fluorescence</text>\n</a>\n</g>\n</g>\n<!-- Fluorescence&#45;&gt;Fluorescence.Trace -->\n<g class=\"edge\" id=\"edge1\">\n<title>Fluorescence-&gt;Fluorescence.Trace</title>\n<path d=\"M56.2624,-55.3805C56.2624,-43.8298 56.2624,-29.1552 56.2624,-19.6127\" fill=\"none\" stroke=\"#000000\" stroke-opacity=\"0.250980\" stroke-width=\".75\"/>\n</g>\n<!-- Mouse -->\n<g class=\"node\" id=\"node3\">\n<title>Mouse</title>\n<g id=\"a_node3\"><a xlink:title=\"mouse_id             \r\n------------------------------\r\ndob=null             \r\nsex=&quot;unknown&quot;        \r\n\">\n<polygon fill=\"#00ff00\" fill-opacity=\"0.188235\" points=\"270.28,-436.499 218.2448,-436.499 218.2448,-401.499 270.28,-401.499 270.28,-436.499\" stroke=\"#00ff00\" stroke-opacity=\"0.188235\"/>\n<text fill=\"#006400\" font-family=\"arial\" font-size=\"12.00\" text-anchor=\"start\" text-decoration=\"underline\" x=\"226.2536\" y=\"-417.2984\">Mouse</text>\n</a>\n</g>\n</g>\n<!-- Session -->\n<g class=\"node\" id=\"node4\">\n<title>Session</title>\n<g id=\"a_node4\"><a xlink:title=\"→ Mouse\r\nsession_date         \r\n------------------------------\r\nexperiment_setup     \r\nexperimenter         \r\ndata_path=&quot;&quot;         \r\n\">\n<polygon fill=\"#00ff00\" fill-opacity=\"0.188235\" points=\"273.4546,-365.499 215.0702,-365.499 215.0702,-330.499 273.4546,-330.499 273.4546,-365.499\" stroke=\"#00ff00\" stroke-opacity=\"0.188235\"/>\n<text fill=\"#006400\" font-family=\"arial\" font-size=\"12.00\" text-anchor=\"start\" text-decoration=\"underline\" x=\"222.9167\" y=\"-346.2984\">Session</text>\n</a>\n</g>\n</g>\n<!-- Mouse&#45;&gt;Session -->\n<g class=\"edge\" id=\"edge2\">\n<title>Mouse-&gt;Session</title>\n<path d=\"M244.2624,-401.4485C244.2624,-390.6074 244.2624,-376.7356 244.2624,-365.8408\" fill=\"none\" stroke=\"#000000\" stroke-opacity=\"0.250980\" stroke-width=\".75\"/>\n</g>\n<!-- Scan -->\n<g class=\"node\" id=\"node9\">\n<title>Scan</title>\n<g id=\"a_node9\"><a xlink:title=\"→ Session\r\nscan_idx             \r\n------------------------------\r\ndepth                \r\nwavelength           \r\nlaser_power          \r\nfps                  \r\nfile_name            \r\n\">\n<polygon fill=\"#00ff00\" fill-opacity=\"0.188235\" points=\"266.1154,-294.499 222.4094,-294.499 222.4094,-259.499 266.1154,-259.499 266.1154,-294.499\" stroke=\"#00ff00\" stroke-opacity=\"0.188235\"/>\n<text fill=\"#006400\" font-family=\"arial\" font-size=\"12.00\" text-anchor=\"start\" text-decoration=\"underline\" x=\"230.5866\" y=\"-275.2984\">Scan</text>\n</a>\n</g>\n</g>\n<!-- Session&#45;&gt;Scan -->\n<g class=\"edge\" id=\"edge3\">\n<title>Session-&gt;Scan</title>\n<path d=\"M244.2624,-330.4485C244.2624,-319.6074 244.2624,-305.7356 244.2624,-294.8408\" fill=\"none\" stroke=\"#000000\" stroke-opacity=\"0.250980\" stroke-width=\".75\"/>\n</g>\n<!-- Segmentation -->\n<g class=\"node\" id=\"node5\">\n<title>Segmentation</title>\n<g id=\"a_node5\"><a xlink:title=\"→ AverageFrame\r\n→ SegmentationParam\r\n------------------------------\r\nsegmented_masks      \r\n\">\n<ellipse cx=\"178.2624\" cy=\"-139.499\" fill=\"#ff0000\" fill-opacity=\"0.125490\" rx=\"13.0073\" ry=\"13\" stroke=\"#ff0000\" stroke-opacity=\"0.125490\"/>\n<text fill=\"#7f0000\" font-family=\"arial\" font-size=\"12.00\" text-anchor=\"middle\" x=\"178.2624\" y=\"-136.7984\">Segmentation</text>\n</a>\n</g>\n</g>\n<!-- Segmentation&#45;&gt;Fluorescence -->\n<g class=\"edge\" id=\"edge4\">\n<title>Segmentation-&gt;Fluorescence</title>\n<path d=\"M166.5645,-133.1227C147.8376,-122.915 110.5943,-102.6143 84.5895,-88.4396\" fill=\"none\" stroke=\"#000000\" stroke-opacity=\"0.250980\" stroke-width=\"2\"/>\n</g>\n<!-- Segmentation.Roi -->\n<g class=\"node\" id=\"node7\">\n<title>Segmentation.Roi</title>\n<g id=\"a_node7\"><a xlink:title=\"→ Segmentation\r\nroi_idx              \r\n------------------------------\r\nmask                 \r\n\">\n<polygon fill=\"transparent\" points=\"226.2559,-83.0046 130.2689,-83.0046 130.2689,-62.9934 226.2559,-62.9934 226.2559,-83.0046\" stroke=\"transparent\"/>\n<text fill=\"#000000\" font-family=\"arial\" font-size=\"10.00\" text-anchor=\"start\" text-decoration=\"underline\" x=\"138.5163\" y=\"-71.7485\">Segmentation.Roi</text>\n</a>\n</g>\n</g>\n<!-- Segmentation&#45;&gt;Segmentation.Roi -->\n<g class=\"edge\" id=\"edge5\">\n<title>Segmentation-&gt;Segmentation.Roi</title>\n<path d=\"M178.2624,-126.3608C178.2624,-113.6426 178.2624,-94.636 178.2624,-83.0718\" fill=\"none\" stroke=\"#000000\" stroke-opacity=\"0.250980\" stroke-width=\".75\"/>\n</g>\n<!-- SegmentationParam -->\n<g class=\"node\" id=\"node6\">\n<title>SegmentationParam</title>\n<g id=\"a_node6\"><a xlink:title=\"seg_param_id         \r\n------------------------------\r\nthreshold            \r\nsize_cutoff          \r\n\">\n<polygon fill=\"#000000\" fill-opacity=\"0.125490\" points=\"165.9246,-223.499 58.6002,-223.499 58.6002,-188.499 165.9246,-188.499 165.9246,-223.499\" stroke=\"transparent\"/>\n<text fill=\"#000000\" font-family=\"arial\" font-size=\"10.00\" text-anchor=\"start\" text-decoration=\"underline\" x=\"66.6813\" y=\"-204.7485\">SegmentationParam</text>\n</a>\n</g>\n</g>\n<!-- SegmentationParam&#45;&gt;Segmentation -->\n<g class=\"edge\" id=\"edge6\">\n<title>SegmentationParam-&gt;Segmentation</title>\n<path d=\"M129.9492,-188.1782C142.4734,-175.5591 158.7787,-159.1303 168.8807,-148.9518\" fill=\"none\" stroke=\"#000000\" stroke-opacity=\"0.250980\" stroke-width=\".75\"/>\n</g>\n<!-- Segmentation.Roi&#45;&gt;Fluorescence.Trace -->\n<g class=\"edge\" id=\"edge7\">\n<title>Segmentation.Roi-&gt;Fluorescence.Trace</title>\n<path d=\"M159.1999,-63.1163C136.2802,-51.2338 98.0509,-31.4143 75.191,-19.5629\" fill=\"none\" stroke=\"#000000\" stroke-opacity=\"0.250980\" stroke-width=\"2\"/>\n</g>\n<!-- AverageFrame -->\n<g class=\"node\" id=\"node8\">\n<title>AverageFrame</title>\n<g id=\"a_node8\"><a xlink:title=\"→ Scan\r\n------------------------------\r\naverage_frame        \r\n\">\n<ellipse cx=\"244.2624\" cy=\"-205.999\" fill=\"#00007f\" fill-opacity=\"0.250980\" rx=\"60.6175\" ry=\"17.5\" stroke=\"#00007f\" stroke-opacity=\"0.250980\"/>\n<text fill=\"#00007f\" font-family=\"arial\" font-size=\"12.00\" text-anchor=\"middle\" x=\"244.2624\" y=\"-203.2984\">AverageFrame</text>\n</a>\n</g>\n</g>\n<!-- AverageFrame&#45;&gt;Segmentation -->\n<g class=\"edge\" id=\"edge8\">\n<title>AverageFrame-&gt;Segmentation</title>\n<path d=\"M227.2658,-188.8736C214.5854,-176.0971 197.7453,-159.1296 187.472,-148.7784\" fill=\"none\" stroke=\"#000000\" stroke-opacity=\"0.250980\" stroke-width=\".75\"/>\n</g>\n<!-- Scan&#45;&gt;AverageFrame -->\n<g class=\"edge\" id=\"edge9\">\n<title>Scan-&gt;AverageFrame</title>\n<path d=\"M244.2624,-259.4485C244.2624,-248.6074 244.2624,-234.7356 244.2624,-223.8408\" fill=\"none\" stroke=\"#000000\" stroke-opacity=\"0.250980\" stroke-width=\"2\"/>\n</g>\n</g>\n</svg>",
      "text/plain": [
       "<datajoint.diagram.Diagram at 0x1c1993c3c8>"
      ]
     },
     "execution_count": 62,
     "metadata": {},
     "output_type": "execute_result"
    }
   ],
   "source": [
    "dj.Diagram(schema)"
   ]
  },
  {
   "cell_type": "markdown",
   "metadata": {},
   "source": [
    "We have covered most of the building elements of data pipeline design. Using these elements, we could design more sophiscated pipelines that facillitates your experimental recordings and data analyses."
   ]
  }
 ],
 "metadata": {
  "kernelspec": {
   "display_name": "Python 3",
   "language": "python",
   "name": "python3"
  },
  "language_info": {
   "codemirror_mode": {
    "name": "ipython",
    "version": 3
   },
   "file_extension": ".py",
   "mimetype": "text/x-python",
   "name": "python",
   "nbconvert_exporter": "python",
   "pygments_lexer": "ipython3",
   "version": "3.7.16"
  },
  "vscode": {
   "interpreter": {
    "hash": "949777d72b0d2535278d3dc13498b2535136f6dfe0678499012e853ee9abcab1"
   }
  }
 },
 "nbformat": 4,
 "nbformat_minor": 4
}
